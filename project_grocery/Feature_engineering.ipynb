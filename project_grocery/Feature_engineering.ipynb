{
 "cells": [
  {
   "cell_type": "code",
   "execution_count": 1,
   "metadata": {},
   "outputs": [
    {
     "name": "stdout",
     "output_type": "stream",
     "text": [
      "2024-06-16 22:06:17,156 featuretools - WARNING    While loading primitives via \"premium_primitives\" entry point, ignored primitive \"DiversityScore\" from \"premium_primitives.diversity_score\" because a primitive with that name already exists in \"nlp_primitives.diversity_score\"\n",
      "2024-06-16 22:06:17,157 featuretools - WARNING    While loading primitives via \"premium_primitives\" entry point, ignored primitive \"LSA\" from \"premium_primitives.lsa\" because a primitive with that name already exists in \"nlp_primitives.lsa\"\n",
      "2024-06-16 22:06:17,157 featuretools - WARNING    While loading primitives via \"premium_primitives\" entry point, ignored primitive \"MeanCharactersPerSentence\" from \"premium_primitives.mean_characters_per_sentence\" because a primitive with that name already exists in \"nlp_primitives.mean_characters_per_sentence\"\n",
      "2024-06-16 22:06:17,158 featuretools - WARNING    While loading primitives via \"premium_primitives\" entry point, ignored primitive \"NumberOfSentences\" from \"premium_primitives.number_of_sentences\" because a primitive with that name already exists in \"nlp_primitives.number_of_sentences\"\n",
      "2024-06-16 22:06:17,158 featuretools - WARNING    While loading primitives via \"premium_primitives\" entry point, ignored primitive \"PartOfSpeechCount\" from \"premium_primitives.part_of_speech_count\" because a primitive with that name already exists in \"nlp_primitives.part_of_speech_count\"\n",
      "2024-06-16 22:06:17,158 featuretools - WARNING    While loading primitives via \"premium_primitives\" entry point, ignored primitive \"PolarityScore\" from \"premium_primitives.polarity_score\" because a primitive with that name already exists in \"nlp_primitives.polarity_score\"\n",
      "2024-06-16 22:06:17,158 featuretools - WARNING    While loading primitives via \"premium_primitives\" entry point, ignored primitive \"StopwordCount\" from \"premium_primitives.stopword_count\" because a primitive with that name already exists in \"nlp_primitives.stopword_count\"\n"
     ]
    }
   ],
   "source": [
    "# Data science helpers\n",
    "from pathlib import Path\n",
    "import pandas as pd \n",
    "import numpy as np\n",
    "\n",
    "import featuretools as ft\n"
   ]
  },
  {
   "cell_type": "code",
   "execution_count": 2,
   "metadata": {},
   "outputs": [],
   "source": [
    "# Read in all data\n",
    "df_test = pd.read_csv(\"test.csv\")\n",
    "df_sub = pd.read_csv(\"sample_submission.csv\")\n",
    "df_stores = pd.read_csv(\"stores.csv\")\n",
    "df_items = pd.read_csv(\"items.csv\")\n",
    "df_transactions = pd.read_csv(\"transactions.csv\", parse_dates=['date'])\n",
    "df_oil = pd.read_csv(\"oil.csv\", parse_dates=['date'])\n",
    "df_holiday = pd.read_csv(\"holidays_events.csv\", parse_dates=['date'])"
   ]
  },
  {
   "cell_type": "code",
   "execution_count": 3,
   "metadata": {},
   "outputs": [
    {
     "name": "stderr",
     "output_type": "stream",
     "text": [
      "/var/folders/gq/789ffg0j3_s7scj27n_mdkj40000gn/T/ipykernel_37934/932450269.py:1: DtypeWarning: Columns (5) have mixed types. Specify dtype option on import or set low_memory=False.\n",
      "  df_train = pd.read_csv(\"train.csv\",  parse_dates=['date']  )\n"
     ]
    }
   ],
   "source": [
    "\n",
    "df_train = pd.read_csv(\"train.csv\",  parse_dates=['date']  )"
   ]
  },
  {
   "cell_type": "code",
   "execution_count": 4,
   "metadata": {},
   "outputs": [
    {
     "name": "stdout",
     "output_type": "stream",
     "text": [
      "   id       date  store_nbr  item_nbr  unit_sales onpromotion\n",
      "0   0 2013-01-01         25    103665         7.0         NaN\n",
      "1   1 2013-01-01         25    105574         1.0         NaN\n",
      "2   2 2013-01-01         25    105575         2.0         NaN\n",
      "3   3 2013-01-01         25    108079         1.0         NaN\n",
      "4   4 2013-01-01         25    108701         1.0         NaN\n"
     ]
    }
   ],
   "source": [
    "print(df_train.head())"
   ]
  },
  {
   "cell_type": "code",
   "execution_count": 5,
   "metadata": {},
   "outputs": [],
   "source": [
    "train_items=df_train.merge(df_items, left_on='item_nbr', right_on='item_nbr',\n",
    "                 how='left' )\n",
    "train_items=train_items.merge(df_holiday,left_on='date', right_on='date',\n",
    "                 how='left' )\n",
    "train_items=train_items.merge(df_oil,left_on='date', right_on='date',\n",
    "                 how='left' )"
   ]
  },
  {
   "cell_type": "code",
   "execution_count": 6,
   "metadata": {},
   "outputs": [],
   "source": [
    "train_items.head()\n",
    "train_items=train_items.dropna()"
   ]
  },
  {
   "cell_type": "code",
   "execution_count": 7,
   "metadata": {},
   "outputs": [
    {
     "data": {
      "text/html": [
       "<div>\n",
       "<style scoped>\n",
       "    .dataframe tbody tr th:only-of-type {\n",
       "        vertical-align: middle;\n",
       "    }\n",
       "\n",
       "    .dataframe tbody tr th {\n",
       "        vertical-align: top;\n",
       "    }\n",
       "\n",
       "    .dataframe thead th {\n",
       "        text-align: right;\n",
       "    }\n",
       "</style>\n",
       "<table border=\"1\" class=\"dataframe\">\n",
       "  <thead>\n",
       "    <tr style=\"text-align: right;\">\n",
       "      <th></th>\n",
       "      <th>date</th>\n",
       "      <th>store_nbr</th>\n",
       "      <th>transactions</th>\n",
       "    </tr>\n",
       "  </thead>\n",
       "  <tbody>\n",
       "    <tr>\n",
       "      <th>0</th>\n",
       "      <td>2013-01-01</td>\n",
       "      <td>25</td>\n",
       "      <td>770</td>\n",
       "    </tr>\n",
       "    <tr>\n",
       "      <th>1</th>\n",
       "      <td>2013-01-02</td>\n",
       "      <td>1</td>\n",
       "      <td>2111</td>\n",
       "    </tr>\n",
       "    <tr>\n",
       "      <th>2</th>\n",
       "      <td>2013-01-02</td>\n",
       "      <td>2</td>\n",
       "      <td>2358</td>\n",
       "    </tr>\n",
       "    <tr>\n",
       "      <th>3</th>\n",
       "      <td>2013-01-02</td>\n",
       "      <td>3</td>\n",
       "      <td>3487</td>\n",
       "    </tr>\n",
       "    <tr>\n",
       "      <th>4</th>\n",
       "      <td>2013-01-02</td>\n",
       "      <td>4</td>\n",
       "      <td>1922</td>\n",
       "    </tr>\n",
       "  </tbody>\n",
       "</table>\n",
       "</div>"
      ],
      "text/plain": [
       "        date  store_nbr  transactions\n",
       "0 2013-01-01         25           770\n",
       "1 2013-01-02          1          2111\n",
       "2 2013-01-02          2          2358\n",
       "3 2013-01-02          3          3487\n",
       "4 2013-01-02          4          1922"
      ]
     },
     "execution_count": 7,
     "metadata": {},
     "output_type": "execute_result"
    }
   ],
   "source": [
    "df_transactions.head()"
   ]
  },
  {
   "cell_type": "code",
   "execution_count": 8,
   "metadata": {},
   "outputs": [],
   "source": [
    "all_info=train_items.merge(df_transactions, left_on=['date','store_nbr'], right_on=['date','store_nbr'],                how='left' )"
   ]
  },
  {
   "cell_type": "code",
   "execution_count": 9,
   "metadata": {},
   "outputs": [],
   "source": [
    "all_info=all_info.merge(df_stores, left_on=['store_nbr'] ,right_on=['store_nbr'],\n",
    "           how='left' )"
   ]
  },
  {
   "cell_type": "code",
   "execution_count": 10,
   "metadata": {},
   "outputs": [],
   "source": [
    "all_info['date']=pd.to_datetime(all_info['date'],format= \"%d/%m/%Y\")"
   ]
  },
  {
   "cell_type": "code",
   "execution_count": 11,
   "metadata": {
    "scrolled": true
   },
   "outputs": [],
   "source": [
    "all_info['month']=all_info['date'].dt.month"
   ]
  },
  {
   "cell_type": "code",
   "execution_count": 12,
   "metadata": {},
   "outputs": [],
   "source": [
    "all_info['year']=all_info['date'].dt.year"
   ]
  },
  {
   "cell_type": "code",
   "execution_count": 13,
   "metadata": {},
   "outputs": [],
   "source": [
    "all_info['day']=all_info['date'].dt.weekday"
   ]
  },
  {
   "cell_type": "code",
   "execution_count": 14,
   "metadata": {},
   "outputs": [
    {
     "data": {
      "text/plain": [
       "id              0\n",
       "date            0\n",
       "store_nbr       0\n",
       "item_nbr        0\n",
       "unit_sales      0\n",
       "onpromotion     0\n",
       "family          0\n",
       "class           0\n",
       "perishable      0\n",
       "type_x          0\n",
       "locale          0\n",
       "locale_name     0\n",
       "description     0\n",
       "transferred     0\n",
       "dcoilwtico      0\n",
       "transactions    0\n",
       "city            0\n",
       "state           0\n",
       "type_y          0\n",
       "cluster         0\n",
       "month           0\n",
       "year            0\n",
       "day             0\n",
       "dtype: int64"
      ]
     },
     "execution_count": 14,
     "metadata": {},
     "output_type": "execute_result"
    }
   ],
   "source": [
    "all_info.isnull().sum()"
   ]
  },
  {
   "cell_type": "code",
   "execution_count": 15,
   "metadata": {},
   "outputs": [],
   "source": [
    "dummy_variables = ['onpromotion','type_x','cluster',\n",
    "                'family','perishable','type_y','onpromotion', 'transferred']"
   ]
  },
  {
   "cell_type": "code",
   "execution_count": 16,
   "metadata": {},
   "outputs": [],
   "source": [
    "dummies=pd.get_dummies(all_info[dummy_variables],drop_first=True)"
   ]
  },
  {
   "cell_type": "code",
   "execution_count": 17,
   "metadata": {},
   "outputs": [],
   "source": [
    "all_info_no_dummies = all_info.drop(dummy_variables, axis=1)"
   ]
  },
  {
   "cell_type": "code",
   "execution_count": 18,
   "metadata": {},
   "outputs": [],
   "source": [
    "df=all_info_no_dummies.merge(dummies,left_index=True,right_index=True)"
   ]
  },
  {
   "cell_type": "code",
   "execution_count": 19,
   "metadata": {},
   "outputs": [
    {
     "data": {
      "text/plain": [
       "Index(['id', 'date', 'store_nbr', 'item_nbr', 'unit_sales', 'class', 'locale',\n",
       "       'locale_name', 'description', 'dcoilwtico', 'transactions', 'city',\n",
       "       'state', 'month', 'year', 'day', 'cluster', 'perishable',\n",
       "       'onpromotion_True', 'type_x_Bridge', 'type_x_Event', 'type_x_Holiday',\n",
       "       'type_x_Transfer', 'family_BABY CARE', 'family_BEAUTY',\n",
       "       'family_BEVERAGES', 'family_BOOKS', 'family_BREAD/BAKERY',\n",
       "       'family_CELEBRATION', 'family_CLEANING', 'family_DAIRY', 'family_DELI',\n",
       "       'family_EGGS', 'family_FROZEN FOODS', 'family_GROCERY I',\n",
       "       'family_GROCERY II', 'family_HARDWARE', 'family_HOME AND KITCHEN I',\n",
       "       'family_HOME AND KITCHEN II', 'family_HOME APPLIANCES',\n",
       "       'family_HOME CARE', 'family_LADIESWEAR', 'family_LAWN AND GARDEN',\n",
       "       'family_LINGERIE', 'family_LIQUOR,WINE,BEER', 'family_MAGAZINES',\n",
       "       'family_MEATS', 'family_PERSONAL CARE', 'family_PET SUPPLIES',\n",
       "       'family_PLAYERS AND ELECTRONICS', 'family_POULTRY',\n",
       "       'family_PREPARED FOODS', 'family_PRODUCE',\n",
       "       'family_SCHOOL AND OFFICE SUPPLIES', 'family_SEAFOOD', 'type_y_B',\n",
       "       'type_y_C', 'type_y_D', 'type_y_E', 'onpromotion_True',\n",
       "       'transferred_True'],\n",
       "      dtype='object')"
      ]
     },
     "execution_count": 19,
     "metadata": {},
     "output_type": "execute_result"
    }
   ],
   "source": [
    "df.columns"
   ]
  },
  {
   "cell_type": "code",
   "execution_count": 20,
   "metadata": {},
   "outputs": [],
   "source": [
    "df = df.loc[:,~df.columns.duplicated()].copy()\n"
   ]
  },
  {
   "cell_type": "code",
   "execution_count": 21,
   "metadata": {},
   "outputs": [
    {
     "data": {
      "text/html": [
       "<div>\n",
       "<style scoped>\n",
       "    .dataframe tbody tr th:only-of-type {\n",
       "        vertical-align: middle;\n",
       "    }\n",
       "\n",
       "    .dataframe tbody tr th {\n",
       "        vertical-align: top;\n",
       "    }\n",
       "\n",
       "    .dataframe thead th {\n",
       "        text-align: right;\n",
       "    }\n",
       "</style>\n",
       "<table border=\"1\" class=\"dataframe\">\n",
       "  <thead>\n",
       "    <tr style=\"text-align: right;\">\n",
       "      <th></th>\n",
       "      <th>id</th>\n",
       "      <th>date</th>\n",
       "      <th>store_nbr</th>\n",
       "      <th>item_nbr</th>\n",
       "      <th>unit_sales</th>\n",
       "      <th>class</th>\n",
       "      <th>locale</th>\n",
       "      <th>locale_name</th>\n",
       "      <th>description</th>\n",
       "      <th>dcoilwtico</th>\n",
       "      <th>...</th>\n",
       "      <th>family_POULTRY</th>\n",
       "      <th>family_PREPARED FOODS</th>\n",
       "      <th>family_PRODUCE</th>\n",
       "      <th>family_SCHOOL AND OFFICE SUPPLIES</th>\n",
       "      <th>family_SEAFOOD</th>\n",
       "      <th>type_y_B</th>\n",
       "      <th>type_y_C</th>\n",
       "      <th>type_y_D</th>\n",
       "      <th>type_y_E</th>\n",
       "      <th>transferred_True</th>\n",
       "    </tr>\n",
       "  </thead>\n",
       "  <tbody>\n",
       "    <tr>\n",
       "      <th>0</th>\n",
       "      <td>21657651</td>\n",
       "      <td>2014-04-01</td>\n",
       "      <td>1</td>\n",
       "      <td>103520</td>\n",
       "      <td>1.0</td>\n",
       "      <td>1028</td>\n",
       "      <td>Regional</td>\n",
       "      <td>Cotopaxi</td>\n",
       "      <td>Provincializacion de Cotopaxi</td>\n",
       "      <td>99.69</td>\n",
       "      <td>...</td>\n",
       "      <td>False</td>\n",
       "      <td>False</td>\n",
       "      <td>False</td>\n",
       "      <td>False</td>\n",
       "      <td>False</td>\n",
       "      <td>False</td>\n",
       "      <td>False</td>\n",
       "      <td>True</td>\n",
       "      <td>False</td>\n",
       "      <td>False</td>\n",
       "    </tr>\n",
       "    <tr>\n",
       "      <th>1</th>\n",
       "      <td>21657652</td>\n",
       "      <td>2014-04-01</td>\n",
       "      <td>1</td>\n",
       "      <td>103665</td>\n",
       "      <td>3.0</td>\n",
       "      <td>2712</td>\n",
       "      <td>Regional</td>\n",
       "      <td>Cotopaxi</td>\n",
       "      <td>Provincializacion de Cotopaxi</td>\n",
       "      <td>99.69</td>\n",
       "      <td>...</td>\n",
       "      <td>False</td>\n",
       "      <td>False</td>\n",
       "      <td>False</td>\n",
       "      <td>False</td>\n",
       "      <td>False</td>\n",
       "      <td>False</td>\n",
       "      <td>False</td>\n",
       "      <td>True</td>\n",
       "      <td>False</td>\n",
       "      <td>False</td>\n",
       "    </tr>\n",
       "    <tr>\n",
       "      <th>2</th>\n",
       "      <td>21657653</td>\n",
       "      <td>2014-04-01</td>\n",
       "      <td>1</td>\n",
       "      <td>105574</td>\n",
       "      <td>1.0</td>\n",
       "      <td>1045</td>\n",
       "      <td>Regional</td>\n",
       "      <td>Cotopaxi</td>\n",
       "      <td>Provincializacion de Cotopaxi</td>\n",
       "      <td>99.69</td>\n",
       "      <td>...</td>\n",
       "      <td>False</td>\n",
       "      <td>False</td>\n",
       "      <td>False</td>\n",
       "      <td>False</td>\n",
       "      <td>False</td>\n",
       "      <td>False</td>\n",
       "      <td>False</td>\n",
       "      <td>True</td>\n",
       "      <td>False</td>\n",
       "      <td>False</td>\n",
       "    </tr>\n",
       "    <tr>\n",
       "      <th>3</th>\n",
       "      <td>21657654</td>\n",
       "      <td>2014-04-01</td>\n",
       "      <td>1</td>\n",
       "      <td>105575</td>\n",
       "      <td>11.0</td>\n",
       "      <td>1045</td>\n",
       "      <td>Regional</td>\n",
       "      <td>Cotopaxi</td>\n",
       "      <td>Provincializacion de Cotopaxi</td>\n",
       "      <td>99.69</td>\n",
       "      <td>...</td>\n",
       "      <td>False</td>\n",
       "      <td>False</td>\n",
       "      <td>False</td>\n",
       "      <td>False</td>\n",
       "      <td>False</td>\n",
       "      <td>False</td>\n",
       "      <td>False</td>\n",
       "      <td>True</td>\n",
       "      <td>False</td>\n",
       "      <td>False</td>\n",
       "    </tr>\n",
       "    <tr>\n",
       "      <th>4</th>\n",
       "      <td>21657655</td>\n",
       "      <td>2014-04-01</td>\n",
       "      <td>1</td>\n",
       "      <td>105577</td>\n",
       "      <td>4.0</td>\n",
       "      <td>1045</td>\n",
       "      <td>Regional</td>\n",
       "      <td>Cotopaxi</td>\n",
       "      <td>Provincializacion de Cotopaxi</td>\n",
       "      <td>99.69</td>\n",
       "      <td>...</td>\n",
       "      <td>False</td>\n",
       "      <td>False</td>\n",
       "      <td>False</td>\n",
       "      <td>False</td>\n",
       "      <td>False</td>\n",
       "      <td>False</td>\n",
       "      <td>False</td>\n",
       "      <td>True</td>\n",
       "      <td>False</td>\n",
       "      <td>False</td>\n",
       "    </tr>\n",
       "    <tr>\n",
       "      <th>...</th>\n",
       "      <td>...</td>\n",
       "      <td>...</td>\n",
       "      <td>...</td>\n",
       "      <td>...</td>\n",
       "      <td>...</td>\n",
       "      <td>...</td>\n",
       "      <td>...</td>\n",
       "      <td>...</td>\n",
       "      <td>...</td>\n",
       "      <td>...</td>\n",
       "      <td>...</td>\n",
       "      <td>...</td>\n",
       "      <td>...</td>\n",
       "      <td>...</td>\n",
       "      <td>...</td>\n",
       "      <td>...</td>\n",
       "      <td>...</td>\n",
       "      <td>...</td>\n",
       "      <td>...</td>\n",
       "      <td>...</td>\n",
       "      <td>...</td>\n",
       "    </tr>\n",
       "    <tr>\n",
       "      <th>12560595</th>\n",
       "      <td>125497035</td>\n",
       "      <td>2017-08-15</td>\n",
       "      <td>54</td>\n",
       "      <td>2089339</td>\n",
       "      <td>4.0</td>\n",
       "      <td>1006</td>\n",
       "      <td>Local</td>\n",
       "      <td>Riobamba</td>\n",
       "      <td>Fundacion de Riobamba</td>\n",
       "      <td>47.57</td>\n",
       "      <td>...</td>\n",
       "      <td>False</td>\n",
       "      <td>False</td>\n",
       "      <td>False</td>\n",
       "      <td>False</td>\n",
       "      <td>False</td>\n",
       "      <td>False</td>\n",
       "      <td>True</td>\n",
       "      <td>False</td>\n",
       "      <td>False</td>\n",
       "      <td>False</td>\n",
       "    </tr>\n",
       "    <tr>\n",
       "      <th>12560596</th>\n",
       "      <td>125497036</td>\n",
       "      <td>2017-08-15</td>\n",
       "      <td>54</td>\n",
       "      <td>2106464</td>\n",
       "      <td>1.0</td>\n",
       "      <td>1148</td>\n",
       "      <td>Local</td>\n",
       "      <td>Riobamba</td>\n",
       "      <td>Fundacion de Riobamba</td>\n",
       "      <td>47.57</td>\n",
       "      <td>...</td>\n",
       "      <td>False</td>\n",
       "      <td>False</td>\n",
       "      <td>False</td>\n",
       "      <td>False</td>\n",
       "      <td>False</td>\n",
       "      <td>False</td>\n",
       "      <td>True</td>\n",
       "      <td>False</td>\n",
       "      <td>False</td>\n",
       "      <td>False</td>\n",
       "    </tr>\n",
       "    <tr>\n",
       "      <th>12560597</th>\n",
       "      <td>125497037</td>\n",
       "      <td>2017-08-15</td>\n",
       "      <td>54</td>\n",
       "      <td>2110456</td>\n",
       "      <td>192.0</td>\n",
       "      <td>1120</td>\n",
       "      <td>Local</td>\n",
       "      <td>Riobamba</td>\n",
       "      <td>Fundacion de Riobamba</td>\n",
       "      <td>47.57</td>\n",
       "      <td>...</td>\n",
       "      <td>False</td>\n",
       "      <td>False</td>\n",
       "      <td>False</td>\n",
       "      <td>False</td>\n",
       "      <td>False</td>\n",
       "      <td>False</td>\n",
       "      <td>True</td>\n",
       "      <td>False</td>\n",
       "      <td>False</td>\n",
       "      <td>False</td>\n",
       "    </tr>\n",
       "    <tr>\n",
       "      <th>12560598</th>\n",
       "      <td>125497038</td>\n",
       "      <td>2017-08-15</td>\n",
       "      <td>54</td>\n",
       "      <td>2113914</td>\n",
       "      <td>198.0</td>\n",
       "      <td>3040</td>\n",
       "      <td>Local</td>\n",
       "      <td>Riobamba</td>\n",
       "      <td>Fundacion de Riobamba</td>\n",
       "      <td>47.57</td>\n",
       "      <td>...</td>\n",
       "      <td>False</td>\n",
       "      <td>False</td>\n",
       "      <td>False</td>\n",
       "      <td>False</td>\n",
       "      <td>False</td>\n",
       "      <td>False</td>\n",
       "      <td>True</td>\n",
       "      <td>False</td>\n",
       "      <td>False</td>\n",
       "      <td>False</td>\n",
       "    </tr>\n",
       "    <tr>\n",
       "      <th>12560599</th>\n",
       "      <td>125497039</td>\n",
       "      <td>2017-08-15</td>\n",
       "      <td>54</td>\n",
       "      <td>2116416</td>\n",
       "      <td>2.0</td>\n",
       "      <td>1060</td>\n",
       "      <td>Local</td>\n",
       "      <td>Riobamba</td>\n",
       "      <td>Fundacion de Riobamba</td>\n",
       "      <td>47.57</td>\n",
       "      <td>...</td>\n",
       "      <td>False</td>\n",
       "      <td>False</td>\n",
       "      <td>False</td>\n",
       "      <td>False</td>\n",
       "      <td>False</td>\n",
       "      <td>False</td>\n",
       "      <td>True</td>\n",
       "      <td>False</td>\n",
       "      <td>False</td>\n",
       "      <td>False</td>\n",
       "    </tr>\n",
       "  </tbody>\n",
       "</table>\n",
       "<p>12560600 rows × 60 columns</p>\n",
       "</div>"
      ],
      "text/plain": [
       "                 id       date  store_nbr  item_nbr  unit_sales  class  \\\n",
       "0          21657651 2014-04-01          1    103520         1.0   1028   \n",
       "1          21657652 2014-04-01          1    103665         3.0   2712   \n",
       "2          21657653 2014-04-01          1    105574         1.0   1045   \n",
       "3          21657654 2014-04-01          1    105575        11.0   1045   \n",
       "4          21657655 2014-04-01          1    105577         4.0   1045   \n",
       "...             ...        ...        ...       ...         ...    ...   \n",
       "12560595  125497035 2017-08-15         54   2089339         4.0   1006   \n",
       "12560596  125497036 2017-08-15         54   2106464         1.0   1148   \n",
       "12560597  125497037 2017-08-15         54   2110456       192.0   1120   \n",
       "12560598  125497038 2017-08-15         54   2113914       198.0   3040   \n",
       "12560599  125497039 2017-08-15         54   2116416         2.0   1060   \n",
       "\n",
       "            locale locale_name                    description  dcoilwtico  \\\n",
       "0         Regional    Cotopaxi  Provincializacion de Cotopaxi       99.69   \n",
       "1         Regional    Cotopaxi  Provincializacion de Cotopaxi       99.69   \n",
       "2         Regional    Cotopaxi  Provincializacion de Cotopaxi       99.69   \n",
       "3         Regional    Cotopaxi  Provincializacion de Cotopaxi       99.69   \n",
       "4         Regional    Cotopaxi  Provincializacion de Cotopaxi       99.69   \n",
       "...            ...         ...                            ...         ...   \n",
       "12560595     Local    Riobamba          Fundacion de Riobamba       47.57   \n",
       "12560596     Local    Riobamba          Fundacion de Riobamba       47.57   \n",
       "12560597     Local    Riobamba          Fundacion de Riobamba       47.57   \n",
       "12560598     Local    Riobamba          Fundacion de Riobamba       47.57   \n",
       "12560599     Local    Riobamba          Fundacion de Riobamba       47.57   \n",
       "\n",
       "          ...  family_POULTRY family_PREPARED FOODS family_PRODUCE  \\\n",
       "0         ...           False                 False          False   \n",
       "1         ...           False                 False          False   \n",
       "2         ...           False                 False          False   \n",
       "3         ...           False                 False          False   \n",
       "4         ...           False                 False          False   \n",
       "...       ...             ...                   ...            ...   \n",
       "12560595  ...           False                 False          False   \n",
       "12560596  ...           False                 False          False   \n",
       "12560597  ...           False                 False          False   \n",
       "12560598  ...           False                 False          False   \n",
       "12560599  ...           False                 False          False   \n",
       "\n",
       "          family_SCHOOL AND OFFICE SUPPLIES  family_SEAFOOD  type_y_B  \\\n",
       "0                                     False           False     False   \n",
       "1                                     False           False     False   \n",
       "2                                     False           False     False   \n",
       "3                                     False           False     False   \n",
       "4                                     False           False     False   \n",
       "...                                     ...             ...       ...   \n",
       "12560595                              False           False     False   \n",
       "12560596                              False           False     False   \n",
       "12560597                              False           False     False   \n",
       "12560598                              False           False     False   \n",
       "12560599                              False           False     False   \n",
       "\n",
       "          type_y_C  type_y_D  type_y_E  transferred_True  \n",
       "0            False      True     False             False  \n",
       "1            False      True     False             False  \n",
       "2            False      True     False             False  \n",
       "3            False      True     False             False  \n",
       "4            False      True     False             False  \n",
       "...            ...       ...       ...               ...  \n",
       "12560595      True     False     False             False  \n",
       "12560596      True     False     False             False  \n",
       "12560597      True     False     False             False  \n",
       "12560598      True     False     False             False  \n",
       "12560599      True     False     False             False  \n",
       "\n",
       "[12560600 rows x 60 columns]"
      ]
     },
     "execution_count": 21,
     "metadata": {},
     "output_type": "execute_result"
    }
   ],
   "source": [
    "df"
   ]
  },
  {
   "cell_type": "code",
   "execution_count": 22,
   "metadata": {},
   "outputs": [
    {
     "data": {
      "text/html": [
       "<div>\n",
       "<style scoped>\n",
       "    .dataframe tbody tr th:only-of-type {\n",
       "        vertical-align: middle;\n",
       "    }\n",
       "\n",
       "    .dataframe tbody tr th {\n",
       "        vertical-align: top;\n",
       "    }\n",
       "\n",
       "    .dataframe thead th {\n",
       "        text-align: right;\n",
       "    }\n",
       "</style>\n",
       "<table border=\"1\" class=\"dataframe\">\n",
       "  <thead>\n",
       "    <tr style=\"text-align: right;\">\n",
       "      <th></th>\n",
       "      <th>unit_sales</th>\n",
       "      <th>dcoilwtico</th>\n",
       "    </tr>\n",
       "  </thead>\n",
       "  <tbody>\n",
       "    <tr>\n",
       "      <th>0</th>\n",
       "      <td>1.0</td>\n",
       "      <td>99.69</td>\n",
       "    </tr>\n",
       "    <tr>\n",
       "      <th>1</th>\n",
       "      <td>3.0</td>\n",
       "      <td>99.69</td>\n",
       "    </tr>\n",
       "    <tr>\n",
       "      <th>2</th>\n",
       "      <td>1.0</td>\n",
       "      <td>99.69</td>\n",
       "    </tr>\n",
       "    <tr>\n",
       "      <th>3</th>\n",
       "      <td>11.0</td>\n",
       "      <td>99.69</td>\n",
       "    </tr>\n",
       "    <tr>\n",
       "      <th>4</th>\n",
       "      <td>4.0</td>\n",
       "      <td>99.69</td>\n",
       "    </tr>\n",
       "    <tr>\n",
       "      <th>...</th>\n",
       "      <td>...</td>\n",
       "      <td>...</td>\n",
       "    </tr>\n",
       "    <tr>\n",
       "      <th>12560595</th>\n",
       "      <td>4.0</td>\n",
       "      <td>47.57</td>\n",
       "    </tr>\n",
       "    <tr>\n",
       "      <th>12560596</th>\n",
       "      <td>1.0</td>\n",
       "      <td>47.57</td>\n",
       "    </tr>\n",
       "    <tr>\n",
       "      <th>12560597</th>\n",
       "      <td>192.0</td>\n",
       "      <td>47.57</td>\n",
       "    </tr>\n",
       "    <tr>\n",
       "      <th>12560598</th>\n",
       "      <td>198.0</td>\n",
       "      <td>47.57</td>\n",
       "    </tr>\n",
       "    <tr>\n",
       "      <th>12560599</th>\n",
       "      <td>2.0</td>\n",
       "      <td>47.57</td>\n",
       "    </tr>\n",
       "  </tbody>\n",
       "</table>\n",
       "<p>12560600 rows × 2 columns</p>\n",
       "</div>"
      ],
      "text/plain": [
       "          unit_sales  dcoilwtico\n",
       "0                1.0       99.69\n",
       "1                3.0       99.69\n",
       "2                1.0       99.69\n",
       "3               11.0       99.69\n",
       "4                4.0       99.69\n",
       "...              ...         ...\n",
       "12560595         4.0       47.57\n",
       "12560596         1.0       47.57\n",
       "12560597       192.0       47.57\n",
       "12560598       198.0       47.57\n",
       "12560599         2.0       47.57\n",
       "\n",
       "[12560600 rows x 2 columns]"
      ]
     },
     "execution_count": 22,
     "metadata": {},
     "output_type": "execute_result"
    }
   ],
   "source": [
    "df.select_dtypes(include=float)"
   ]
  },
  {
   "cell_type": "code",
   "execution_count": 23,
   "metadata": {},
   "outputs": [
    {
     "data": {
      "image/png": "[encoded data removed]",
      "text/plain": [
       "<Figure size 640x480 with 1 Axes>"
      ]
     },
     "metadata": {},
     "output_type": "display_data"
    }
   ],
   "source": [
    "from matplotlib import pyplot as plt\n",
    "df.transactions.hist(bins=20)\n",
    "plt.show()"
   ]
  },
  {
   "cell_type": "code",
   "execution_count": 24,
   "metadata": {},
   "outputs": [],
   "source": [
    "\n",
    "from sklearn.preprocessing import StandardScaler\n",
    "SS_scaler = StandardScaler()"
   ]
  },
  {
   "cell_type": "code",
   "execution_count": 25,
   "metadata": {},
   "outputs": [],
   "source": [
    "SS_scaler.fit(df[['transactions']])\n",
    "df['ss_scaled_transactions']=SS_scaler.transform(df[['transactions']])\n"
   ]
  },
  {
   "cell_type": "code",
   "execution_count": 26,
   "metadata": {},
   "outputs": [
    {
     "data": {
      "text/plain": [
       "<Axes: >"
      ]
     },
     "execution_count": 26,
     "metadata": {},
     "output_type": "execute_result"
    },
    {
     "data": {
      "image/png": "[encoded data removed]",
      "text/plain": [
       "<Figure size 640x480 with 1 Axes>"
      ]
     },
     "metadata": {},
     "output_type": "display_data"
    }
   ],
   "source": [
    "df['ss_scaled_transactions'].hist()"
   ]
  },
  {
   "cell_type": "code",
   "execution_count": 27,
   "metadata": {},
   "outputs": [
    {
     "data": {
      "image/png": "[encoded data removed]",
      "text/plain": [
       "<Figure size 640x480 with 1 Axes>"
      ]
     },
     "metadata": {},
     "output_type": "display_data"
    }
   ],
   "source": [
    "df.dcoilwtico.hist(bins=20)\n",
    "plt.show()"
   ]
  },
  {
   "cell_type": "code",
   "execution_count": 28,
   "metadata": {},
   "outputs": [],
   "source": [
    "SS_scaler2 = StandardScaler()\n",
    "SS_scaler2.fit(df[['dcoilwtico']])\n",
    "df['ss_scaled_dcoilwtico']=SS_scaler2.transform(df[['dcoilwtico']])\n"
   ]
  },
  {
   "cell_type": "code",
   "execution_count": 29,
   "metadata": {},
   "outputs": [
    {
     "data": {
      "image/png": "[encoded data removed]",
      "text/plain": [
       "<Figure size 640x480 with 1 Axes>"
      ]
     },
     "metadata": {},
     "output_type": "display_data"
    }
   ],
   "source": [
    "df['ss_scaled_dcoilwtico'].hist()\n",
    "plt.show()"
   ]
  },
  {
   "cell_type": "code",
   "execution_count": 30,
   "metadata": {},
   "outputs": [
    {
     "name": "stdout",
     "output_type": "stream",
     "text": [
      "Stored 'df' (DataFrame)\n"
     ]
    }
   ],
   "source": [
    "%store df"
   ]
  },
  {
   "cell_type": "code",
   "execution_count": null,
   "metadata": {},
   "outputs": [],
   "source": []
  },
  {
   "cell_type": "code",
   "execution_count": null,
   "metadata": {},
   "outputs": [],
   "source": []
  },
  {
   "cell_type": "code",
   "execution_count": null,
   "metadata": {},
   "outputs": [],
   "source": []
  },
  {
   "cell_type": "code",
   "execution_count": null,
   "metadata": {},
   "outputs": [],
   "source": []
  }
 ],
 "metadata": {
  "interpreter": {
   "hash": "4974b06b67eebfe4c4fc28149be42606bd9b389e2147ff957b8a0b3a8dd2815e"
  },
  "kernelspec": {
   "display_name": "Python 3 (ipykernel)",
   "language": "python",
   "name": "python3"
  },
  "language_info": {
   "codemirror_mode": {
    "name": "ipython",
    "version": 3
   },
   "file_extension": ".py",
   "mimetype": "text/x-python",
   "name": "python",
   "nbconvert_exporter": "python",
   "pygments_lexer": "ipython3",
   "version": "3.11.9"
  },
  "toc": {
   "base_numbering": 1,
   "nav_menu": {},
   "number_sections": true,
   "sideBar": true,
   "skip_h1_title": false,
   "title_cell": "Table of Contents",
   "title_sidebar": "Contents",
   "toc_cell": false,
   "toc_position": {},
   "toc_section_display": true,
   "toc_window_display": false
  },
  "varInspector": {
   "cols": {
    "lenName": 16,
    "lenType": 16,
    "lenVar": 40
   },
   "kernels_config": {
    "python": {
     "delete_cmd_postfix": "",
     "delete_cmd_prefix": "del ",
     "library": "var_list.py",
     "varRefreshCmd": "print(var_dic_list())"
    },
    "r": {
     "delete_cmd_postfix": ") ",
     "delete_cmd_prefix": "rm(",
     "library": "var_list.r",
     "varRefreshCmd": "cat(var_dic_list()) "
    }
   },
   "types_to_exclude": [
    "module",
    "function",
    "builtin_function_or_method",
    "instance",
    "_Feature"
   ],
   "window_display": false
  }
 },
 "nbformat": 4,
 "nbformat_minor": 4
}
