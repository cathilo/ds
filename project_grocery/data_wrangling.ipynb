{
 "cells": [
  {
   "cell_type": "code",
   "execution_count": 12,
   "id": "41b18eb6",
   "metadata": {},
   "outputs": [],
   "source": [
    "\n",
    "import pandas as pd\n",
    "import matplotlib.pyplot as plt\n",
    "import seaborn as sns\n"
   ]
  },
  {
   "cell_type": "code",
   "execution_count": 13,
   "id": "b8e780dd",
   "metadata": {},
   "outputs": [],
   "source": [
    "training = pd.read_csv('train.csv', dtype= {'id':int,'store_nbr':int, 'unit_sales':float, 'onpromotion':str}, parse_dates=['date'])\n",
    "items = pd.read_csv('items.csv')\n",
    "stores=pd.read_csv('stores.csv')\n",
    "test=pd.read_csv('test.csv',parse_dates=['date'])\n",
    "transactions = pd.read_csv('transactions.csv',parse_dates=['date'])\n",
    "holidays_events=pd.read_csv('holidays_events.csv',parse_dates=['date'])\n",
    "sample_submission=pd.read_csv('sample_submission.csv')"
   ]
  },
  {
   "cell_type": "code",
   "execution_count": 14,
   "id": "eb38cca3",
   "metadata": {},
   "outputs": [
    {
     "name": "stdout",
     "output_type": "stream",
     "text": [
      "<class 'pandas.core.frame.DataFrame'>\n",
      "RangeIndex: 4100 entries, 0 to 4099\n",
      "Data columns (total 4 columns):\n",
      " #   Column      Non-Null Count  Dtype \n",
      "---  ------      --------------  ----- \n",
      " 0   item_nbr    4100 non-null   int64 \n",
      " 1   family      4100 non-null   object\n",
      " 2   class       4100 non-null   int64 \n",
      " 3   perishable  4100 non-null   int64 \n",
      "dtypes: int64(3), object(1)\n",
      "memory usage: 128.3+ KB\n",
      "None\n"
     ]
    }
   ],
   "source": [
    "print(items.info())"
   ]
  },
  {
   "cell_type": "code",
   "execution_count": 15,
   "id": "537a7299",
   "metadata": {},
   "outputs": [
    {
     "name": "stdout",
     "output_type": "stream",
     "text": [
      "   item_nbr        family  class  perishable\n",
      "0     96995     GROCERY I   1093           0\n",
      "1     99197     GROCERY I   1067           0\n",
      "2    103501      CLEANING   3008           0\n",
      "3    103520     GROCERY I   1028           0\n",
      "4    103665  BREAD/BAKERY   2712           1\n"
     ]
    }
   ],
   "source": [
    "print(items.head())"
   ]
  },
  {
   "cell_type": "code",
   "execution_count": 16,
   "id": "4a39bd36",
   "metadata": {},
   "outputs": [
    {
     "name": "stdout",
     "output_type": "stream",
     "text": [
      "GROCERY I                     0.325366\n",
      "BEVERAGES                     0.149512\n",
      "CLEANING                      0.108780\n",
      "PRODUCE                       0.074634\n",
      "DAIRY                         0.059024\n",
      "PERSONAL CARE                 0.037317\n",
      "BREAD/BAKERY                  0.032683\n",
      "HOME CARE                     0.026341\n",
      "DELI                          0.022195\n",
      "MEATS                         0.020488\n",
      "HOME AND KITCHEN I            0.018780\n",
      "LIQUOR,WINE,BEER              0.017805\n",
      "FROZEN FOODS                  0.013415\n",
      "POULTRY                       0.013171\n",
      "HOME AND KITCHEN II           0.010976\n",
      "EGGS                          0.010000\n",
      "CELEBRATION                   0.007561\n",
      "LAWN AND GARDEN               0.006341\n",
      "PREPARED FOODS                0.006341\n",
      "LADIESWEAR                    0.005122\n",
      "AUTOMOTIVE                    0.004878\n",
      "LINGERIE                      0.004878\n",
      "BEAUTY                        0.004634\n",
      "PLAYERS AND ELECTRONICS       0.004146\n",
      "SCHOOL AND OFFICE SUPPLIES    0.003659\n",
      "GROCERY II                    0.003415\n",
      "PET SUPPLIES                  0.003415\n",
      "SEAFOOD                       0.001951\n",
      "MAGAZINES                     0.001463\n",
      "HARDWARE                      0.000976\n",
      "HOME APPLIANCES               0.000244\n",
      "BABY CARE                     0.000244\n",
      "BOOKS                         0.000244\n",
      "Name: family, dtype: float64\n"
     ]
    }
   ],
   "source": [
    "print(items['family'].value_counts(normalize=True))"
   ]
  },
  {
   "cell_type": "code",
   "execution_count": 17,
   "id": "15debc72",
   "metadata": {},
   "outputs": [
    {
     "name": "stdout",
     "output_type": "stream",
     "text": [
      "0    0.759512\n",
      "1    0.240488\n",
      "Name: perishable, dtype: float64\n"
     ]
    }
   ],
   "source": [
    "print(items['perishable'].value_counts(normalize=True))"
   ]
  },
  {
   "cell_type": "code",
   "execution_count": 18,
   "id": "d260ca3b",
   "metadata": {},
   "outputs": [
    {
     "name": "stdout",
     "output_type": "stream",
     "text": [
      "        date  store_nbr  transactions\n",
      "0 2013-01-01         25           770\n",
      "1 2013-01-02          1          2111\n",
      "2 2013-01-02          2          2358\n",
      "3 2013-01-02          3          3487\n",
      "4 2013-01-02          4          1922\n"
     ]
    }
   ],
   "source": [
    "print(transactions.head())"
   ]
  },
  {
   "cell_type": "code",
   "execution_count": null,
   "id": "8c54781c",
   "metadata": {},
   "outputs": [],
   "source": []
  },
  {
   "cell_type": "code",
   "execution_count": 19,
   "id": "68f3b3fa",
   "metadata": {},
   "outputs": [
    {
     "name": "stdout",
     "output_type": "stream",
     "text": [
      "   store_nbr           city                           state type  cluster\n",
      "0          1          Quito                       Pichincha    D       13\n",
      "1          2          Quito                       Pichincha    D       13\n",
      "2          3          Quito                       Pichincha    D        8\n",
      "3          4          Quito                       Pichincha    D        9\n",
      "4          5  Santo Domingo  Santo Domingo de los Tsachilas    D        4\n"
     ]
    }
   ],
   "source": [
    "print(stores.head())"
   ]
  },
  {
   "cell_type": "code",
   "execution_count": 20,
   "id": "eba123ed",
   "metadata": {},
   "outputs": [
    {
     "data": {
      "text/plain": [
       "Quito            0.333333\n",
       "Guayaquil        0.148148\n",
       "Cuenca           0.055556\n",
       "Santo Domingo    0.055556\n",
       "Manta            0.037037\n",
       "Latacunga        0.037037\n",
       "Machala          0.037037\n",
       "Ambato           0.037037\n",
       "Quevedo          0.018519\n",
       "Esmeraldas       0.018519\n",
       "Loja             0.018519\n",
       "Libertad         0.018519\n",
       "Playas           0.018519\n",
       "Daule            0.018519\n",
       "Babahoyo         0.018519\n",
       "Salinas          0.018519\n",
       "Puyo             0.018519\n",
       "Guaranda         0.018519\n",
       "Ibarra           0.018519\n",
       "Riobamba         0.018519\n",
       "Cayambe          0.018519\n",
       "El Carmen        0.018519\n",
       "Name: city, dtype: float64"
      ]
     },
     "execution_count": 20,
     "metadata": {},
     "output_type": "execute_result"
    }
   ],
   "source": [
    "stores['city'].value_counts(normalize=True)"
   ]
  },
  {
   "cell_type": "code",
   "execution_count": 21,
   "id": "0665fc26",
   "metadata": {},
   "outputs": [
    {
     "data": {
      "text/plain": [
       "Pichincha                         0.351852\n",
       "Guayas                            0.203704\n",
       "Santo Domingo de los Tsachilas    0.055556\n",
       "Azuay                             0.055556\n",
       "Manabi                            0.055556\n",
       "Cotopaxi                          0.037037\n",
       "Tungurahua                        0.037037\n",
       "Los Rios                          0.037037\n",
       "El Oro                            0.037037\n",
       "Chimborazo                        0.018519\n",
       "Imbabura                          0.018519\n",
       "Bolivar                           0.018519\n",
       "Pastaza                           0.018519\n",
       "Santa Elena                       0.018519\n",
       "Loja                              0.018519\n",
       "Esmeraldas                        0.018519\n",
       "Name: state, dtype: float64"
      ]
     },
     "execution_count": 21,
     "metadata": {},
     "output_type": "execute_result"
    }
   ],
   "source": [
    "stores['state'].value_counts(normalize=True)"
   ]
  },
  {
   "cell_type": "code",
   "execution_count": 22,
   "id": "0603a585",
   "metadata": {},
   "outputs": [
    {
     "data": {
      "text/plain": [
       "D    0.333333\n",
       "C    0.277778\n",
       "A    0.166667\n",
       "B    0.148148\n",
       "E    0.074074\n",
       "Name: type, dtype: float64"
      ]
     },
     "execution_count": 22,
     "metadata": {},
     "output_type": "execute_result"
    }
   ],
   "source": [
    "stores['type'].value_counts(normalize=True)"
   ]
  },
  {
   "cell_type": "code",
   "execution_count": 23,
   "id": "e0ae6fcf",
   "metadata": {},
   "outputs": [
    {
     "name": "stdout",
     "output_type": "stream",
     "text": [
      "   id       date  store_nbr  item_nbr  unit_sales onpromotion\n",
      "0   0 2013-01-01         25    103665         7.0         NaN\n",
      "1   1 2013-01-01         25    105574         1.0         NaN\n",
      "2   2 2013-01-01         25    105575         2.0         NaN\n",
      "3   3 2013-01-01         25    108079         1.0         NaN\n",
      "4   4 2013-01-01         25    108701         1.0         NaN\n"
     ]
    }
   ],
   "source": [
    "print(training.head())"
   ]
  },
  {
   "cell_type": "code",
   "execution_count": null,
   "id": "c9ab833c",
   "metadata": {},
   "outputs": [],
   "source": []
  },
  {
   "cell_type": "code",
   "execution_count": 24,
   "id": "7aaa3215",
   "metadata": {},
   "outputs": [
    {
     "name": "stdout",
     "output_type": "stream",
     "text": [
      "<class 'pandas.core.frame.DataFrame'>\n",
      "RangeIndex: 350 entries, 0 to 349\n",
      "Data columns (total 6 columns):\n",
      " #   Column       Non-Null Count  Dtype         \n",
      "---  ------       --------------  -----         \n",
      " 0   date         350 non-null    datetime64[ns]\n",
      " 1   type         350 non-null    object        \n",
      " 2   locale       350 non-null    object        \n",
      " 3   locale_name  350 non-null    object        \n",
      " 4   description  350 non-null    object        \n",
      " 5   transferred  350 non-null    bool          \n",
      "dtypes: bool(1), datetime64[ns](1), object(4)\n",
      "memory usage: 14.1+ KB\n",
      "None\n"
     ]
    }
   ],
   "source": [
    "print(holidays_events.info())"
   ]
  },
  {
   "cell_type": "code",
   "execution_count": 25,
   "id": "d00faab2",
   "metadata": {},
   "outputs": [],
   "source": [
    "items_with_other_info = pd.merge(items,training,on='item_nbr',left_on=None, right_on=None, left_index=False, right_index=False,\n",
    "                                sort=True,\n",
    "                                 suffixes=(\"_item\", \"_training\")).merge(stores,on ='store_nbr', left_on=None, right_on=None,\n",
    "                              left_index=False, right_index=False, sort=True, suffixes=(\"_training\",\"_store\")).merge(holidays_events,how='left',on ='date', \n",
    "                              left_index=False, right_index=False, sort=True, suffixes=(\"_item\",\"_holiday\"))\n",
    "\n",
    "\n",
    "#items_with_other_info_1=pd.merge(items_with_other_inf,stores, on ='store_nbr', left_on=None, right_on=None,\n",
    " #                             left_index=False, right_index=False, sort=True, suffixes=(\"_training\",\"_store\"))\n",
    "#\n",
    "\n",
    "#items_with_other_info=pd.merge(items_with_other_info_1,holidays_events, how='left',on ='date', \n",
    " #                             left_index=False, right_index=False, sort=True, suffixes=(\"_item\",\"_holiday\"))"
   ]
  },
  {
   "cell_type": "code",
   "execution_count": 26,
   "id": "81c01b09",
   "metadata": {},
   "outputs": [],
   "source": [
    "items_with_other_info.rename(columns={'onpromotion':'on_sale'},inplace=True)"
   ]
  },
  {
   "cell_type": "code",
   "execution_count": 27,
   "id": "cfbf2612",
   "metadata": {},
   "outputs": [],
   "source": [
    "items_with_other_info.drop_duplicates(subset=None, keep='first', inplace=True, ignore_index=False)\n"
   ]
  },
  {
   "cell_type": "markdown",
   "id": "a1dc3abe",
   "metadata": {},
   "source": [
    "\n",
    "Recap of data science problem\n",
    "Corporación Favorita is a large Ecuadorian-based grocery retailer that operates hundreds of supermarkets and needs a forecasting model that will accurately predict the unit sales by product. Variables include store type, location, oil price, promotional information, holiday information and product type. The grocery store wants to ensure they can have just enough of the right products at the right time.The scope of the solution space remains within the 4000 products from 54 different store locations. Our model will not be predicting any unit sales outside of these products and store locations.The data provided has variables that include store number, item number, unit sales, and promotion information. The training data set covers 2013-2016 and the test set data is a 16-day window in 2017. There is store metadata available categorizing stores, listing location. There is also metadata for the products including family, class, and perishable. There is also data on holiday and events to show breaks in the work days. There is also daily oil price included for the time frame of the train and test data.  Ecuador is an oil-dependent country and its economical health is highly vulnerable to shocks in oil prices.\n"
   ]
  },
  {
   "cell_type": "code",
   "execution_count": 28,
   "id": "c765610f",
   "metadata": {},
   "outputs": [
    {
     "data": {
      "text/html": [
       "<div>\n",
       "<style scoped>\n",
       "    .dataframe tbody tr th:only-of-type {\n",
       "        vertical-align: middle;\n",
       "    }\n",
       "\n",
       "    .dataframe tbody tr th {\n",
       "        vertical-align: top;\n",
       "    }\n",
       "\n",
       "    .dataframe thead th {\n",
       "        text-align: right;\n",
       "    }\n",
       "</style>\n",
       "<table border=\"1\" class=\"dataframe\">\n",
       "  <thead>\n",
       "    <tr style=\"text-align: right;\">\n",
       "      <th></th>\n",
       "      <th>item_nbr</th>\n",
       "      <th>family</th>\n",
       "      <th>class</th>\n",
       "      <th>perishable</th>\n",
       "      <th>id</th>\n",
       "      <th>date</th>\n",
       "      <th>store_nbr</th>\n",
       "      <th>unit_sales</th>\n",
       "      <th>on_sale</th>\n",
       "      <th>city</th>\n",
       "      <th>state</th>\n",
       "      <th>type_item</th>\n",
       "      <th>cluster</th>\n",
       "      <th>type_holiday</th>\n",
       "      <th>locale</th>\n",
       "      <th>locale_name</th>\n",
       "      <th>description</th>\n",
       "      <th>transferred</th>\n",
       "    </tr>\n",
       "  </thead>\n",
       "  <tbody>\n",
       "    <tr>\n",
       "      <th>0</th>\n",
       "      <td>103665</td>\n",
       "      <td>BREAD/BAKERY</td>\n",
       "      <td>2712</td>\n",
       "      <td>1</td>\n",
       "      <td>0</td>\n",
       "      <td>2013-01-01</td>\n",
       "      <td>25</td>\n",
       "      <td>7.0</td>\n",
       "      <td>NaN</td>\n",
       "      <td>Salinas</td>\n",
       "      <td>Santa Elena</td>\n",
       "      <td>D</td>\n",
       "      <td>1</td>\n",
       "      <td>Holiday</td>\n",
       "      <td>National</td>\n",
       "      <td>Ecuador</td>\n",
       "      <td>Primer dia del ano</td>\n",
       "      <td>False</td>\n",
       "    </tr>\n",
       "    <tr>\n",
       "      <th>1</th>\n",
       "      <td>105574</td>\n",
       "      <td>GROCERY I</td>\n",
       "      <td>1045</td>\n",
       "      <td>0</td>\n",
       "      <td>1</td>\n",
       "      <td>2013-01-01</td>\n",
       "      <td>25</td>\n",
       "      <td>1.0</td>\n",
       "      <td>NaN</td>\n",
       "      <td>Salinas</td>\n",
       "      <td>Santa Elena</td>\n",
       "      <td>D</td>\n",
       "      <td>1</td>\n",
       "      <td>Holiday</td>\n",
       "      <td>National</td>\n",
       "      <td>Ecuador</td>\n",
       "      <td>Primer dia del ano</td>\n",
       "      <td>False</td>\n",
       "    </tr>\n",
       "    <tr>\n",
       "      <th>2</th>\n",
       "      <td>105575</td>\n",
       "      <td>GROCERY I</td>\n",
       "      <td>1045</td>\n",
       "      <td>0</td>\n",
       "      <td>2</td>\n",
       "      <td>2013-01-01</td>\n",
       "      <td>25</td>\n",
       "      <td>2.0</td>\n",
       "      <td>NaN</td>\n",
       "      <td>Salinas</td>\n",
       "      <td>Santa Elena</td>\n",
       "      <td>D</td>\n",
       "      <td>1</td>\n",
       "      <td>Holiday</td>\n",
       "      <td>National</td>\n",
       "      <td>Ecuador</td>\n",
       "      <td>Primer dia del ano</td>\n",
       "      <td>False</td>\n",
       "    </tr>\n",
       "    <tr>\n",
       "      <th>3</th>\n",
       "      <td>108079</td>\n",
       "      <td>GROCERY I</td>\n",
       "      <td>1030</td>\n",
       "      <td>0</td>\n",
       "      <td>3</td>\n",
       "      <td>2013-01-01</td>\n",
       "      <td>25</td>\n",
       "      <td>1.0</td>\n",
       "      <td>NaN</td>\n",
       "      <td>Salinas</td>\n",
       "      <td>Santa Elena</td>\n",
       "      <td>D</td>\n",
       "      <td>1</td>\n",
       "      <td>Holiday</td>\n",
       "      <td>National</td>\n",
       "      <td>Ecuador</td>\n",
       "      <td>Primer dia del ano</td>\n",
       "      <td>False</td>\n",
       "    </tr>\n",
       "    <tr>\n",
       "      <th>4</th>\n",
       "      <td>108701</td>\n",
       "      <td>DELI</td>\n",
       "      <td>2644</td>\n",
       "      <td>1</td>\n",
       "      <td>4</td>\n",
       "      <td>2013-01-01</td>\n",
       "      <td>25</td>\n",
       "      <td>1.0</td>\n",
       "      <td>NaN</td>\n",
       "      <td>Salinas</td>\n",
       "      <td>Santa Elena</td>\n",
       "      <td>D</td>\n",
       "      <td>1</td>\n",
       "      <td>Holiday</td>\n",
       "      <td>National</td>\n",
       "      <td>Ecuador</td>\n",
       "      <td>Primer dia del ano</td>\n",
       "      <td>False</td>\n",
       "    </tr>\n",
       "  </tbody>\n",
       "</table>\n",
       "</div>"
      ],
      "text/plain": [
       "   item_nbr        family  class  perishable  id       date  store_nbr  \\\n",
       "0    103665  BREAD/BAKERY   2712           1   0 2013-01-01         25   \n",
       "1    105574     GROCERY I   1045           0   1 2013-01-01         25   \n",
       "2    105575     GROCERY I   1045           0   2 2013-01-01         25   \n",
       "3    108079     GROCERY I   1030           0   3 2013-01-01         25   \n",
       "4    108701          DELI   2644           1   4 2013-01-01         25   \n",
       "\n",
       "   unit_sales on_sale     city        state type_item  cluster type_holiday  \\\n",
       "0         7.0     NaN  Salinas  Santa Elena         D        1      Holiday   \n",
       "1         1.0     NaN  Salinas  Santa Elena         D        1      Holiday   \n",
       "2         2.0     NaN  Salinas  Santa Elena         D        1      Holiday   \n",
       "3         1.0     NaN  Salinas  Santa Elena         D        1      Holiday   \n",
       "4         1.0     NaN  Salinas  Santa Elena         D        1      Holiday   \n",
       "\n",
       "     locale locale_name         description transferred  \n",
       "0  National     Ecuador  Primer dia del ano       False  \n",
       "1  National     Ecuador  Primer dia del ano       False  \n",
       "2  National     Ecuador  Primer dia del ano       False  \n",
       "3  National     Ecuador  Primer dia del ano       False  \n",
       "4  National     Ecuador  Primer dia del ano       False  "
      ]
     },
     "execution_count": 28,
     "metadata": {},
     "output_type": "execute_result"
    }
   ],
   "source": [
    "items_with_other_info.head()"
   ]
  },
  {
   "cell_type": "code",
   "execution_count": 29,
   "id": "8f7fe288",
   "metadata": {},
   "outputs": [],
   "source": [
    "items_with_other_info['on_sale'].fillna(False, inplace=True)"
   ]
  },
  {
   "cell_type": "markdown",
   "id": "9b2e705a",
   "metadata": {},
   "source": [
    "\n"
   ]
  },
  {
   "cell_type": "code",
   "execution_count": 30,
   "id": "5d760b25",
   "metadata": {},
   "outputs": [
    {
     "name": "stdout",
     "output_type": "stream",
     "text": [
      "<class 'pandas.core.frame.DataFrame'>\n",
      "Int64Index: 127970257 entries, 0 to 127970256\n",
      "Data columns (total 18 columns):\n",
      " #   Column        Dtype         \n",
      "---  ------        -----         \n",
      " 0   item_nbr      int64         \n",
      " 1   family        object        \n",
      " 2   class         int64         \n",
      " 3   perishable    int64         \n",
      " 4   id            int64         \n",
      " 5   date          datetime64[ns]\n",
      " 6   store_nbr     int64         \n",
      " 7   unit_sales    float64       \n",
      " 8   on_sale       object        \n",
      " 9   city          object        \n",
      " 10  state         object        \n",
      " 11  type_item     object        \n",
      " 12  cluster       int64         \n",
      " 13  type_holiday  object        \n",
      " 14  locale        object        \n",
      " 15  locale_name   object        \n",
      " 16  description   object        \n",
      " 17  transferred   object        \n",
      "dtypes: datetime64[ns](1), float64(1), int64(6), object(10)\n",
      "memory usage: 18.1+ GB\n"
     ]
    }
   ],
   "source": [
    "items_with_other_info.info()\n",
    "\n"
   ]
  },
  {
   "cell_type": "code",
   "execution_count": 31,
   "id": "e545beb4",
   "metadata": {},
   "outputs": [],
   "source": [
    "duplicated = items_with_other_info.duplicated(keep='last')\n"
   ]
  },
  {
   "cell_type": "code",
   "execution_count": 32,
   "id": "e6c08a5b",
   "metadata": {},
   "outputs": [],
   "source": [
    "items_with_other_info=(items_with_other_info[~duplicated])"
   ]
  },
  {
   "cell_type": "code",
   "execution_count": 33,
   "id": "e6075854",
   "metadata": {},
   "outputs": [
    {
     "name": "stdout",
     "output_type": "stream",
     "text": [
      "           item_nbr        family  class  perishable         id       date  \\\n",
      "0            103665  BREAD/BAKERY   2712           1          0 2013-01-01   \n",
      "1            105574     GROCERY I   1045           0          1 2013-01-01   \n",
      "2            105575     GROCERY I   1045           0          2 2013-01-01   \n",
      "3            108079     GROCERY I   1030           0          3 2013-01-01   \n",
      "4            108701          DELI   2644           1          4 2013-01-01   \n",
      "...             ...           ...    ...         ...        ...        ...   \n",
      "127970252   2089339     GROCERY I   1006           0  125497035 2017-08-15   \n",
      "127970253   2106464     BEVERAGES   1148           0  125497036 2017-08-15   \n",
      "127970254   2110456     BEVERAGES   1120           0  125497037 2017-08-15   \n",
      "127970255   2113914      CLEANING   3040           0  125497038 2017-08-15   \n",
      "127970256   2116416     GROCERY I   1060           0  125497039 2017-08-15   \n",
      "\n",
      "           store_nbr  unit_sales on_sale       city        state type_item  \\\n",
      "0                 25         7.0   False    Salinas  Santa Elena         D   \n",
      "1                 25         1.0   False    Salinas  Santa Elena         D   \n",
      "2                 25         2.0   False    Salinas  Santa Elena         D   \n",
      "3                 25         1.0   False    Salinas  Santa Elena         D   \n",
      "4                 25         1.0   False    Salinas  Santa Elena         D   \n",
      "...              ...         ...     ...        ...          ...       ...   \n",
      "127970252         54         4.0   False  El Carmen       Manabi         C   \n",
      "127970253         54         1.0    True  El Carmen       Manabi         C   \n",
      "127970254         54       192.0   False  El Carmen       Manabi         C   \n",
      "127970255         54       198.0    True  El Carmen       Manabi         C   \n",
      "127970256         54         2.0   False  El Carmen       Manabi         C   \n",
      "\n",
      "           cluster type_holiday    locale locale_name            description  \\\n",
      "0                1      Holiday  National     Ecuador     Primer dia del ano   \n",
      "1                1      Holiday  National     Ecuador     Primer dia del ano   \n",
      "2                1      Holiday  National     Ecuador     Primer dia del ano   \n",
      "3                1      Holiday  National     Ecuador     Primer dia del ano   \n",
      "4                1      Holiday  National     Ecuador     Primer dia del ano   \n",
      "...            ...          ...       ...         ...                    ...   \n",
      "127970252        3      Holiday     Local    Riobamba  Fundacion de Riobamba   \n",
      "127970253        3      Holiday     Local    Riobamba  Fundacion de Riobamba   \n",
      "127970254        3      Holiday     Local    Riobamba  Fundacion de Riobamba   \n",
      "127970255        3      Holiday     Local    Riobamba  Fundacion de Riobamba   \n",
      "127970256        3      Holiday     Local    Riobamba  Fundacion de Riobamba   \n",
      "\n",
      "          transferred  \n",
      "0               False  \n",
      "1               False  \n",
      "2               False  \n",
      "3               False  \n",
      "4               False  \n",
      "...               ...  \n",
      "127970252       False  \n",
      "127970253       False  \n",
      "127970254       False  \n",
      "127970255       False  \n",
      "127970256       False  \n",
      "\n",
      "[127970257 rows x 18 columns]\n"
     ]
    }
   ],
   "source": [
    "\n",
    "print(items_with_other_info)"
   ]
  },
  {
   "cell_type": "code",
   "execution_count": 34,
   "id": "815fdf1c",
   "metadata": {},
   "outputs": [],
   "source": [
    "items_with_other_info['perishable']=items_with_other_info['perishable'].astype('bool')\n",
    "items_with_other_info['on_sale']=items_with_other_info['on_sale'].astype('bool')\n",
    "items_with_other_info['class']=items_with_other_info['class'].astype('category')"
   ]
  },
  {
   "cell_type": "markdown",
   "id": "9da178ee",
   "metadata": {},
   "source": [
    "\n"
   ]
  },
  {
   "cell_type": "code",
   "execution_count": 35,
   "id": "b841b841",
   "metadata": {},
   "outputs": [
    {
     "data": {
      "text/plain": [
       "count     21828208\n",
       "unique           3\n",
       "top       National\n",
       "freq      11468026\n",
       "Name: locale, dtype: object"
      ]
     },
     "execution_count": 35,
     "metadata": {},
     "output_type": "execute_result"
    }
   ],
   "source": [
    "items_with_other_info['locale'].describe()"
   ]
  },
  {
   "cell_type": "code",
   "execution_count": 36,
   "id": "64c31643",
   "metadata": {},
   "outputs": [
    {
     "data": {
      "text/plain": [
       "National    0.525376\n",
       "Local       0.411010\n",
       "Regional    0.063614\n",
       "Name: locale, dtype: float64"
      ]
     },
     "execution_count": 36,
     "metadata": {},
     "output_type": "execute_result"
    }
   ],
   "source": [
    "items_with_other_info['locale'].value_counts(normalize=True)"
   ]
  },
  {
   "cell_type": "code",
   "execution_count": 37,
   "id": "10a26cfd",
   "metadata": {},
   "outputs": [
    {
     "data": {
      "text/plain": [
       "count     21828208\n",
       "unique          24\n",
       "top        Ecuador\n",
       "freq      11468026\n",
       "Name: locale_name, dtype: object"
      ]
     },
     "execution_count": 37,
     "metadata": {},
     "output_type": "execute_result"
    }
   ],
   "source": [
    "items_with_other_info['locale_name'].describe()"
   ]
  },
  {
   "cell_type": "code",
   "execution_count": 38,
   "id": "f40cb79c",
   "metadata": {},
   "outputs": [
    {
     "data": {
      "text/plain": [
       "Ecuador                           0.525376\n",
       "Guayaquil                         0.040786\n",
       "Riobamba                          0.033699\n",
       "Latacunga                         0.031156\n",
       "Guaranda                          0.030665\n",
       "Quito                             0.030042\n",
       "Ambato                            0.026682\n",
       "Cuenca                            0.020843\n",
       "El Carmen                         0.018724\n",
       "Santo Domingo                     0.018724\n",
       "Cayambe                           0.018261\n",
       "Esmeraldas                        0.017822\n",
       "Machala                           0.017467\n",
       "Imbabura                          0.017467\n",
       "Cotopaxi                          0.017357\n",
       "Manta                             0.017302\n",
       "Puyo                              0.016023\n",
       "Libertad                          0.015723\n",
       "Salinas                           0.015365\n",
       "Loja                              0.014425\n",
       "Santa Elena                       0.014422\n",
       "Santo Domingo de los Tsachilas    0.014368\n",
       "Quevedo                           0.013670\n",
       "Ibarra                            0.013629\n",
       "Name: locale_name, dtype: float64"
      ]
     },
     "execution_count": 38,
     "metadata": {},
     "output_type": "execute_result"
    }
   ],
   "source": [
    "items_with_other_info['locale_name'].value_counts(normalize=True)"
   ]
  },
  {
   "cell_type": "markdown",
   "id": "b3566bde",
   "metadata": {},
   "source": []
  },
  {
   "cell_type": "code",
   "execution_count": 39,
   "id": "83df9806",
   "metadata": {},
   "outputs": [
    {
     "data": {
      "text/plain": [
       "count    1.279703e+08\n",
       "mean     8.568666e+00\n",
       "std      2.418040e+01\n",
       "min     -1.537200e+04\n",
       "25%      2.000000e+00\n",
       "50%      4.000000e+00\n",
       "75%      9.000000e+00\n",
       "max      8.944000e+04\n",
       "Name: unit_sales, dtype: float64"
      ]
     },
     "execution_count": 39,
     "metadata": {},
     "output_type": "execute_result"
    }
   ],
   "source": [
    "items_with_other_info['unit_sales'].describe()"
   ]
  },
  {
   "cell_type": "code",
   "execution_count": 40,
   "id": "1f3ea764",
   "metadata": {},
   "outputs": [
    {
     "data": {
      "text/html": [
       "<div>\n",
       "<style scoped>\n",
       "    .dataframe tbody tr th:only-of-type {\n",
       "        vertical-align: middle;\n",
       "    }\n",
       "\n",
       "    .dataframe tbody tr th {\n",
       "        vertical-align: top;\n",
       "    }\n",
       "\n",
       "    .dataframe thead th {\n",
       "        text-align: right;\n",
       "    }\n",
       "</style>\n",
       "<table border=\"1\" class=\"dataframe\">\n",
       "  <thead>\n",
       "    <tr style=\"text-align: right;\">\n",
       "      <th></th>\n",
       "      <th>item_nbr</th>\n",
       "      <th>family</th>\n",
       "      <th>class</th>\n",
       "      <th>perishable</th>\n",
       "      <th>id</th>\n",
       "      <th>date</th>\n",
       "      <th>store_nbr</th>\n",
       "      <th>unit_sales</th>\n",
       "      <th>on_sale</th>\n",
       "      <th>city</th>\n",
       "      <th>state</th>\n",
       "      <th>type_item</th>\n",
       "      <th>cluster</th>\n",
       "      <th>type_holiday</th>\n",
       "      <th>locale</th>\n",
       "      <th>locale_name</th>\n",
       "      <th>description</th>\n",
       "      <th>transferred</th>\n",
       "    </tr>\n",
       "  </thead>\n",
       "  <tbody>\n",
       "    <tr>\n",
       "      <th>50191786</th>\n",
       "      <td>1166474</td>\n",
       "      <td>BEVERAGES</td>\n",
       "      <td>1120</td>\n",
       "      <td>False</td>\n",
       "      <td>49592112</td>\n",
       "      <td>2015-06-22</td>\n",
       "      <td>18</td>\n",
       "      <td>-15372.0</td>\n",
       "      <td>True</td>\n",
       "      <td>Quito</td>\n",
       "      <td>Pichincha</td>\n",
       "      <td>B</td>\n",
       "      <td>16</td>\n",
       "      <td>NaN</td>\n",
       "      <td>NaN</td>\n",
       "      <td>NaN</td>\n",
       "      <td>NaN</td>\n",
       "      <td>NaN</td>\n",
       "    </tr>\n",
       "  </tbody>\n",
       "</table>\n",
       "</div>"
      ],
      "text/plain": [
       "          item_nbr     family class  perishable        id       date  \\\n",
       "50191786   1166474  BEVERAGES  1120       False  49592112 2015-06-22   \n",
       "\n",
       "          store_nbr  unit_sales  on_sale   city      state type_item  cluster  \\\n",
       "50191786         18    -15372.0     True  Quito  Pichincha         B       16   \n",
       "\n",
       "         type_holiday locale locale_name description transferred  \n",
       "50191786          NaN    NaN         NaN         NaN         NaN  "
      ]
     },
     "execution_count": 40,
     "metadata": {},
     "output_type": "execute_result"
    }
   ],
   "source": [
    "items_with_other_info[items_with_other_info['unit_sales']==items_with_other_info['unit_sales'].min()]"
   ]
  },
  {
   "cell_type": "code",
   "execution_count": 42,
   "id": "5a6cd934",
   "metadata": {},
   "outputs": [],
   "source": [
    "item=items_with_other_info[items_with_other_info['item_nbr']==119026]"
   ]
  },
  {
   "cell_type": "code",
   "execution_count": 43,
   "id": "bdc71dbd",
   "metadata": {},
   "outputs": [
    {
     "data": {
      "text/html": [
       "<div>\n",
       "<style scoped>\n",
       "    .dataframe tbody tr th:only-of-type {\n",
       "        vertical-align: middle;\n",
       "    }\n",
       "\n",
       "    .dataframe tbody tr th {\n",
       "        vertical-align: top;\n",
       "    }\n",
       "\n",
       "    .dataframe thead th {\n",
       "        text-align: right;\n",
       "    }\n",
       "</style>\n",
       "<table border=\"1\" class=\"dataframe\">\n",
       "  <thead>\n",
       "    <tr style=\"text-align: right;\">\n",
       "      <th></th>\n",
       "      <th>item_nbr</th>\n",
       "      <th>family</th>\n",
       "      <th>class</th>\n",
       "      <th>perishable</th>\n",
       "      <th>id</th>\n",
       "      <th>date</th>\n",
       "      <th>store_nbr</th>\n",
       "      <th>unit_sales</th>\n",
       "      <th>on_sale</th>\n",
       "      <th>city</th>\n",
       "      <th>state</th>\n",
       "      <th>type_item</th>\n",
       "      <th>cluster</th>\n",
       "      <th>type_holiday</th>\n",
       "      <th>locale</th>\n",
       "      <th>locale_name</th>\n",
       "      <th>description</th>\n",
       "      <th>transferred</th>\n",
       "    </tr>\n",
       "  </thead>\n",
       "  <tbody>\n",
       "    <tr>\n",
       "      <th>80625721</th>\n",
       "      <td>119026</td>\n",
       "      <td>CLEANING</td>\n",
       "      <td>3026</td>\n",
       "      <td>False</td>\n",
       "      <td>79204331</td>\n",
       "      <td>2016-05-14</td>\n",
       "      <td>53</td>\n",
       "      <td>-4673.0</td>\n",
       "      <td>True</td>\n",
       "      <td>Manta</td>\n",
       "      <td>Manabi</td>\n",
       "      <td>D</td>\n",
       "      <td>13</td>\n",
       "      <td>Event</td>\n",
       "      <td>National</td>\n",
       "      <td>Ecuador</td>\n",
       "      <td>Terremoto Manabi+28</td>\n",
       "      <td>False</td>\n",
       "    </tr>\n",
       "  </tbody>\n",
       "</table>\n",
       "</div>"
      ],
      "text/plain": [
       "          item_nbr    family class  perishable        id       date  \\\n",
       "80625721    119026  CLEANING  3026       False  79204331 2016-05-14   \n",
       "\n",
       "          store_nbr  unit_sales  on_sale   city   state type_item  cluster  \\\n",
       "80625721         53     -4673.0     True  Manta  Manabi         D       13   \n",
       "\n",
       "         type_holiday    locale locale_name          description transferred  \n",
       "80625721        Event  National     Ecuador  Terremoto Manabi+28       False  "
      ]
     },
     "execution_count": 43,
     "metadata": {},
     "output_type": "execute_result"
    }
   ],
   "source": [
    "item[item['unit_sales']<0]\n",
    "#earth quake 2016 in manabi. probably inventory that was damaged / lost."
   ]
  },
  {
   "cell_type": "code",
   "execution_count": 44,
   "id": "2470ef6a",
   "metadata": {},
   "outputs": [
    {
     "data": {
      "text/plain": [
       "item_nbr                     903955\n",
       "family                    BEVERAGES\n",
       "class                          1122\n",
       "perishable                    False\n",
       "id                             4720\n",
       "date            2013-01-02 00:00:00\n",
       "store_nbr                         4\n",
       "unit_sales                      5.0\n",
       "on_sale                       False\n",
       "city                          Quito\n",
       "state                     Pichincha\n",
       "type_item                         D\n",
       "cluster                           9\n",
       "type_holiday                    NaN\n",
       "locale                          NaN\n",
       "locale_name                     NaN\n",
       "description                     NaN\n",
       "transferred                     NaN\n",
       "Name: 4720, dtype: object"
      ]
     },
     "execution_count": 44,
     "metadata": {},
     "output_type": "execute_result"
    }
   ],
   "source": [
    "subset=items_with_other_info[items_with_other_info['item_nbr']==119026]['unit_sales'].max()\n",
    "items_with_other_info.loc[subset]"
   ]
  },
  {
   "cell_type": "code",
   "execution_count": 45,
   "id": "8e0abc75",
   "metadata": {},
   "outputs": [
    {
     "data": {
      "text/html": [
       "<div>\n",
       "<style scoped>\n",
       "    .dataframe tbody tr th:only-of-type {\n",
       "        vertical-align: middle;\n",
       "    }\n",
       "\n",
       "    .dataframe tbody tr th {\n",
       "        vertical-align: top;\n",
       "    }\n",
       "\n",
       "    .dataframe thead th {\n",
       "        text-align: right;\n",
       "    }\n",
       "</style>\n",
       "<table border=\"1\" class=\"dataframe\">\n",
       "  <thead>\n",
       "    <tr style=\"text-align: right;\">\n",
       "      <th></th>\n",
       "      <th>item_nbr</th>\n",
       "      <th>family</th>\n",
       "      <th>class</th>\n",
       "      <th>perishable</th>\n",
       "      <th>id</th>\n",
       "      <th>date</th>\n",
       "      <th>store_nbr</th>\n",
       "      <th>unit_sales</th>\n",
       "      <th>on_sale</th>\n",
       "      <th>city</th>\n",
       "      <th>state</th>\n",
       "      <th>type_item</th>\n",
       "      <th>cluster</th>\n",
       "      <th>type_holiday</th>\n",
       "      <th>locale</th>\n",
       "      <th>locale_name</th>\n",
       "      <th>description</th>\n",
       "      <th>transferred</th>\n",
       "    </tr>\n",
       "  </thead>\n",
       "  <tbody>\n",
       "    <tr>\n",
       "      <th>10655</th>\n",
       "      <td>456875</td>\n",
       "      <td>CLEANING</td>\n",
       "      <td>3015</td>\n",
       "      <td>False</td>\n",
       "      <td>10655</td>\n",
       "      <td>2013-01-02</td>\n",
       "      <td>10</td>\n",
       "      <td>-3.0</td>\n",
       "      <td>False</td>\n",
       "      <td>Quito</td>\n",
       "      <td>Pichincha</td>\n",
       "      <td>C</td>\n",
       "      <td>15</td>\n",
       "      <td>NaN</td>\n",
       "      <td>NaN</td>\n",
       "      <td>NaN</td>\n",
       "      <td>NaN</td>\n",
       "      <td>NaN</td>\n",
       "    </tr>\n",
       "    <tr>\n",
       "      <th>46867</th>\n",
       "      <td>559044</td>\n",
       "      <td>BREAD/BAKERY</td>\n",
       "      <td>2716</td>\n",
       "      <td>True</td>\n",
       "      <td>46867</td>\n",
       "      <td>2013-01-03</td>\n",
       "      <td>5</td>\n",
       "      <td>-1.0</td>\n",
       "      <td>False</td>\n",
       "      <td>Santo Domingo</td>\n",
       "      <td>Santo Domingo de los Tsachilas</td>\n",
       "      <td>D</td>\n",
       "      <td>4</td>\n",
       "      <td>NaN</td>\n",
       "      <td>NaN</td>\n",
       "      <td>NaN</td>\n",
       "      <td>NaN</td>\n",
       "      <td>NaN</td>\n",
       "    </tr>\n",
       "    <tr>\n",
       "      <th>50970</th>\n",
       "      <td>365138</td>\n",
       "      <td>GROCERY I</td>\n",
       "      <td>1072</td>\n",
       "      <td>False</td>\n",
       "      <td>50970</td>\n",
       "      <td>2013-01-03</td>\n",
       "      <td>9</td>\n",
       "      <td>-3.0</td>\n",
       "      <td>False</td>\n",
       "      <td>Quito</td>\n",
       "      <td>Pichincha</td>\n",
       "      <td>B</td>\n",
       "      <td>6</td>\n",
       "      <td>NaN</td>\n",
       "      <td>NaN</td>\n",
       "      <td>NaN</td>\n",
       "      <td>NaN</td>\n",
       "      <td>NaN</td>\n",
       "    </tr>\n",
       "    <tr>\n",
       "      <th>71807</th>\n",
       "      <td>812716</td>\n",
       "      <td>LIQUOR,WINE,BEER</td>\n",
       "      <td>1318</td>\n",
       "      <td>False</td>\n",
       "      <td>71807</td>\n",
       "      <td>2013-01-03</td>\n",
       "      <td>41</td>\n",
       "      <td>-19.0</td>\n",
       "      <td>False</td>\n",
       "      <td>Machala</td>\n",
       "      <td>El Oro</td>\n",
       "      <td>D</td>\n",
       "      <td>4</td>\n",
       "      <td>NaN</td>\n",
       "      <td>NaN</td>\n",
       "      <td>NaN</td>\n",
       "      <td>NaN</td>\n",
       "      <td>NaN</td>\n",
       "    </tr>\n",
       "    <tr>\n",
       "      <th>71992</th>\n",
       "      <td>1004551</td>\n",
       "      <td>LIQUOR,WINE,BEER</td>\n",
       "      <td>1318</td>\n",
       "      <td>False</td>\n",
       "      <td>71992</td>\n",
       "      <td>2013-01-03</td>\n",
       "      <td>41</td>\n",
       "      <td>-27.0</td>\n",
       "      <td>False</td>\n",
       "      <td>Machala</td>\n",
       "      <td>El Oro</td>\n",
       "      <td>D</td>\n",
       "      <td>4</td>\n",
       "      <td>NaN</td>\n",
       "      <td>NaN</td>\n",
       "      <td>NaN</td>\n",
       "      <td>NaN</td>\n",
       "      <td>NaN</td>\n",
       "    </tr>\n",
       "    <tr>\n",
       "      <th>...</th>\n",
       "      <td>...</td>\n",
       "      <td>...</td>\n",
       "      <td>...</td>\n",
       "      <td>...</td>\n",
       "      <td>...</td>\n",
       "      <td>...</td>\n",
       "      <td>...</td>\n",
       "      <td>...</td>\n",
       "      <td>...</td>\n",
       "      <td>...</td>\n",
       "      <td>...</td>\n",
       "      <td>...</td>\n",
       "      <td>...</td>\n",
       "      <td>...</td>\n",
       "      <td>...</td>\n",
       "      <td>...</td>\n",
       "      <td>...</td>\n",
       "      <td>...</td>\n",
       "    </tr>\n",
       "    <tr>\n",
       "      <th>127874614</th>\n",
       "      <td>682884</td>\n",
       "      <td>CLEANING</td>\n",
       "      <td>3004</td>\n",
       "      <td>False</td>\n",
       "      <td>125401397</td>\n",
       "      <td>2017-08-15</td>\n",
       "      <td>4</td>\n",
       "      <td>-1.0</td>\n",
       "      <td>True</td>\n",
       "      <td>Quito</td>\n",
       "      <td>Pichincha</td>\n",
       "      <td>D</td>\n",
       "      <td>9</td>\n",
       "      <td>Holiday</td>\n",
       "      <td>Local</td>\n",
       "      <td>Riobamba</td>\n",
       "      <td>Fundacion de Riobamba</td>\n",
       "      <td>False</td>\n",
       "    </tr>\n",
       "    <tr>\n",
       "      <th>127877333</th>\n",
       "      <td>1455485</td>\n",
       "      <td>BEVERAGES</td>\n",
       "      <td>1152</td>\n",
       "      <td>False</td>\n",
       "      <td>125404116</td>\n",
       "      <td>2017-08-15</td>\n",
       "      <td>5</td>\n",
       "      <td>-1.0</td>\n",
       "      <td>True</td>\n",
       "      <td>Santo Domingo</td>\n",
       "      <td>Santo Domingo de los Tsachilas</td>\n",
       "      <td>D</td>\n",
       "      <td>4</td>\n",
       "      <td>Holiday</td>\n",
       "      <td>Local</td>\n",
       "      <td>Riobamba</td>\n",
       "      <td>Fundacion de Riobamba</td>\n",
       "      <td>False</td>\n",
       "    </tr>\n",
       "    <tr>\n",
       "      <th>127880437</th>\n",
       "      <td>215303</td>\n",
       "      <td>GROCERY I</td>\n",
       "      <td>1026</td>\n",
       "      <td>False</td>\n",
       "      <td>125407220</td>\n",
       "      <td>2017-08-15</td>\n",
       "      <td>7</td>\n",
       "      <td>-1.0</td>\n",
       "      <td>True</td>\n",
       "      <td>Quito</td>\n",
       "      <td>Pichincha</td>\n",
       "      <td>D</td>\n",
       "      <td>8</td>\n",
       "      <td>Holiday</td>\n",
       "      <td>Local</td>\n",
       "      <td>Riobamba</td>\n",
       "      <td>Fundacion de Riobamba</td>\n",
       "      <td>False</td>\n",
       "    </tr>\n",
       "    <tr>\n",
       "      <th>127882512</th>\n",
       "      <td>2048193</td>\n",
       "      <td>GROCERY I</td>\n",
       "      <td>1016</td>\n",
       "      <td>False</td>\n",
       "      <td>125409295</td>\n",
       "      <td>2017-08-15</td>\n",
       "      <td>7</td>\n",
       "      <td>-1.0</td>\n",
       "      <td>True</td>\n",
       "      <td>Quito</td>\n",
       "      <td>Pichincha</td>\n",
       "      <td>D</td>\n",
       "      <td>8</td>\n",
       "      <td>Holiday</td>\n",
       "      <td>Local</td>\n",
       "      <td>Riobamba</td>\n",
       "      <td>Fundacion de Riobamba</td>\n",
       "      <td>False</td>\n",
       "    </tr>\n",
       "    <tr>\n",
       "      <th>127946235</th>\n",
       "      <td>1464153</td>\n",
       "      <td>BEVERAGES</td>\n",
       "      <td>1190</td>\n",
       "      <td>False</td>\n",
       "      <td>125473018</td>\n",
       "      <td>2017-08-15</td>\n",
       "      <td>44</td>\n",
       "      <td>-1.0</td>\n",
       "      <td>True</td>\n",
       "      <td>Quito</td>\n",
       "      <td>Pichincha</td>\n",
       "      <td>A</td>\n",
       "      <td>5</td>\n",
       "      <td>Holiday</td>\n",
       "      <td>Local</td>\n",
       "      <td>Riobamba</td>\n",
       "      <td>Fundacion de Riobamba</td>\n",
       "      <td>False</td>\n",
       "    </tr>\n",
       "  </tbody>\n",
       "</table>\n",
       "<p>7964 rows × 18 columns</p>\n",
       "</div>"
      ],
      "text/plain": [
       "           item_nbr            family class  perishable         id       date  \\\n",
       "10655        456875          CLEANING  3015       False      10655 2013-01-02   \n",
       "46867        559044      BREAD/BAKERY  2716        True      46867 2013-01-03   \n",
       "50970        365138         GROCERY I  1072       False      50970 2013-01-03   \n",
       "71807        812716  LIQUOR,WINE,BEER  1318       False      71807 2013-01-03   \n",
       "71992       1004551  LIQUOR,WINE,BEER  1318       False      71992 2013-01-03   \n",
       "...             ...               ...   ...         ...        ...        ...   \n",
       "127874614    682884          CLEANING  3004       False  125401397 2017-08-15   \n",
       "127877333   1455485         BEVERAGES  1152       False  125404116 2017-08-15   \n",
       "127880437    215303         GROCERY I  1026       False  125407220 2017-08-15   \n",
       "127882512   2048193         GROCERY I  1016       False  125409295 2017-08-15   \n",
       "127946235   1464153         BEVERAGES  1190       False  125473018 2017-08-15   \n",
       "\n",
       "           store_nbr  unit_sales  on_sale           city  \\\n",
       "10655             10        -3.0    False          Quito   \n",
       "46867              5        -1.0    False  Santo Domingo   \n",
       "50970              9        -3.0    False          Quito   \n",
       "71807             41       -19.0    False        Machala   \n",
       "71992             41       -27.0    False        Machala   \n",
       "...              ...         ...      ...            ...   \n",
       "127874614          4        -1.0     True          Quito   \n",
       "127877333          5        -1.0     True  Santo Domingo   \n",
       "127880437          7        -1.0     True          Quito   \n",
       "127882512          7        -1.0     True          Quito   \n",
       "127946235         44        -1.0     True          Quito   \n",
       "\n",
       "                                    state type_item  cluster type_holiday  \\\n",
       "10655                           Pichincha         C       15          NaN   \n",
       "46867      Santo Domingo de los Tsachilas         D        4          NaN   \n",
       "50970                           Pichincha         B        6          NaN   \n",
       "71807                              El Oro         D        4          NaN   \n",
       "71992                              El Oro         D        4          NaN   \n",
       "...                                   ...       ...      ...          ...   \n",
       "127874614                       Pichincha         D        9      Holiday   \n",
       "127877333  Santo Domingo de los Tsachilas         D        4      Holiday   \n",
       "127880437                       Pichincha         D        8      Holiday   \n",
       "127882512                       Pichincha         D        8      Holiday   \n",
       "127946235                       Pichincha         A        5      Holiday   \n",
       "\n",
       "          locale locale_name            description transferred  \n",
       "10655        NaN         NaN                    NaN         NaN  \n",
       "46867        NaN         NaN                    NaN         NaN  \n",
       "50970        NaN         NaN                    NaN         NaN  \n",
       "71807        NaN         NaN                    NaN         NaN  \n",
       "71992        NaN         NaN                    NaN         NaN  \n",
       "...          ...         ...                    ...         ...  \n",
       "127874614  Local    Riobamba  Fundacion de Riobamba       False  \n",
       "127877333  Local    Riobamba  Fundacion de Riobamba       False  \n",
       "127880437  Local    Riobamba  Fundacion de Riobamba       False  \n",
       "127882512  Local    Riobamba  Fundacion de Riobamba       False  \n",
       "127946235  Local    Riobamba  Fundacion de Riobamba       False  \n",
       "\n",
       "[7964 rows x 18 columns]"
      ]
     },
     "execution_count": 45,
     "metadata": {},
     "output_type": "execute_result"
    }
   ],
   "source": [
    "items_with_other_info[items_with_other_info['unit_sales']<0]\n"
   ]
  },
  {
   "cell_type": "code",
   "execution_count": 46,
   "id": "375f7f83",
   "metadata": {},
   "outputs": [
    {
     "data": {
      "text/plain": [
       "Pichincha                         0.558764\n",
       "Guayas                            0.169513\n",
       "Tungurahua                        0.044576\n",
       "Azuay                             0.040934\n",
       "Santo Domingo de los Tsachilas    0.030136\n",
       "Los Rios                          0.022099\n",
       "El Oro                            0.020467\n",
       "Santa Elena                       0.020216\n",
       "Loja                              0.018835\n",
       "Manabi                            0.018709\n",
       "Cotopaxi                          0.015193\n",
       "Imbabura                          0.011175\n",
       "Bolivar                           0.009920\n",
       "Esmeraldas                        0.008287\n",
       "Chimborazo                        0.007534\n",
       "Pastaza                           0.003641\n",
       "Name: state, dtype: float64"
      ]
     },
     "execution_count": 46,
     "metadata": {},
     "output_type": "execute_result"
    }
   ],
   "source": [
    "items_with_other_info[items_with_other_info['unit_sales']<0]['state'].value_counts(normalize=True)\n"
   ]
  },
  {
   "cell_type": "code",
   "execution_count": 47,
   "id": "d56abfbd",
   "metadata": {},
   "outputs": [
    {
     "data": {
      "text/plain": [
       "D    0.434706\n",
       "A    0.257283\n",
       "B    0.140382\n",
       "C    0.118031\n",
       "E    0.049598\n",
       "Name: type_item, dtype: float64"
      ]
     },
     "execution_count": 47,
     "metadata": {},
     "output_type": "execute_result"
    }
   ],
   "source": [
    "items_with_other_info[items_with_other_info['unit_sales']<0]['type_item'].value_counts(normalize=True)\n"
   ]
  },
  {
   "cell_type": "code",
   "execution_count": 48,
   "id": "eddd4d52",
   "metadata": {},
   "outputs": [
    {
     "data": {
      "text/plain": [
       "False    0.967742\n",
       "True     0.032258\n",
       "Name: transferred, dtype: float64"
      ]
     },
     "execution_count": 48,
     "metadata": {},
     "output_type": "execute_result"
    }
   ],
   "source": [
    "items_with_other_info[items_with_other_info['unit_sales']<0]['transferred'].value_counts(normalize=True)\n"
   ]
  },
  {
   "cell_type": "code",
   "execution_count": 49,
   "id": "0fef0fc5",
   "metadata": {},
   "outputs": [
    {
     "data": {
      "text/plain": [
       "True     0.834882\n",
       "False    0.165118\n",
       "Name: on_sale, dtype: float64"
      ]
     },
     "execution_count": 49,
     "metadata": {},
     "output_type": "execute_result"
    }
   ],
   "source": [
    "items_with_other_info[items_with_other_info['unit_sales']<0]['on_sale'].value_counts(normalize=True)\n"
   ]
  },
  {
   "cell_type": "code",
   "execution_count": 50,
   "id": "c9b94c7b",
   "metadata": {},
   "outputs": [
    {
     "data": {
      "text/plain": [
       "True     0.828962\n",
       "False    0.171038\n",
       "Name: on_sale, dtype: float64"
      ]
     },
     "execution_count": 50,
     "metadata": {},
     "output_type": "execute_result"
    }
   ],
   "source": [
    "items_with_other_info[items_with_other_info['unit_sales']>=0]['on_sale'].value_counts(normalize=True)\n"
   ]
  },
  {
   "cell_type": "code",
   "execution_count": 51,
   "id": "bf81963b",
   "metadata": {},
   "outputs": [
    {
     "data": {
      "text/html": [
       "<div>\n",
       "<style scoped>\n",
       "    .dataframe tbody tr th:only-of-type {\n",
       "        vertical-align: middle;\n",
       "    }\n",
       "\n",
       "    .dataframe tbody tr th {\n",
       "        vertical-align: top;\n",
       "    }\n",
       "\n",
       "    .dataframe thead th {\n",
       "        text-align: right;\n",
       "    }\n",
       "</style>\n",
       "<table border=\"1\" class=\"dataframe\">\n",
       "  <thead>\n",
       "    <tr style=\"text-align: right;\">\n",
       "      <th></th>\n",
       "      <th>item_nbr</th>\n",
       "      <th>id</th>\n",
       "      <th>store_nbr</th>\n",
       "      <th>unit_sales</th>\n",
       "      <th>cluster</th>\n",
       "    </tr>\n",
       "  </thead>\n",
       "  <tbody>\n",
       "    <tr>\n",
       "      <th>count</th>\n",
       "      <td>1.279623e+08</td>\n",
       "      <td>1.279623e+08</td>\n",
       "      <td>1.279623e+08</td>\n",
       "      <td>1.279623e+08</td>\n",
       "      <td>1.279623e+08</td>\n",
       "    </tr>\n",
       "    <tr>\n",
       "      <th>mean</th>\n",
       "      <td>9.736219e+05</td>\n",
       "      <td>6.291530e+07</td>\n",
       "      <td>2.746758e+01</td>\n",
       "      <td>8.570442e+00</td>\n",
       "      <td>8.727179e+00</td>\n",
       "    </tr>\n",
       "    <tr>\n",
       "      <th>std</th>\n",
       "      <td>5.208501e+05</td>\n",
       "      <td>3.620335e+07</td>\n",
       "      <td>1.632959e+01</td>\n",
       "      <td>2.410391e+01</td>\n",
       "      <td>4.626471e+00</td>\n",
       "    </tr>\n",
       "    <tr>\n",
       "      <th>min</th>\n",
       "      <td>9.699500e+04</td>\n",
       "      <td>0.000000e+00</td>\n",
       "      <td>1.000000e+00</td>\n",
       "      <td>1.000000e-03</td>\n",
       "      <td>1.000000e+00</td>\n",
       "    </tr>\n",
       "    <tr>\n",
       "      <th>25%</th>\n",
       "      <td>5.227210e+05</td>\n",
       "      <td>3.154549e+07</td>\n",
       "      <td>1.200000e+01</td>\n",
       "      <td>2.000000e+00</td>\n",
       "      <td>4.000000e+00</td>\n",
       "    </tr>\n",
       "    <tr>\n",
       "      <th>50%</th>\n",
       "      <td>9.595020e+05</td>\n",
       "      <td>6.315291e+07</td>\n",
       "      <td>2.800000e+01</td>\n",
       "      <td>4.000000e+00</td>\n",
       "      <td>9.000000e+00</td>\n",
       "    </tr>\n",
       "    <tr>\n",
       "      <th>75%</th>\n",
       "      <td>1.354382e+06</td>\n",
       "      <td>9.414972e+07</td>\n",
       "      <td>4.300000e+01</td>\n",
       "      <td>9.000000e+00</td>\n",
       "      <td>1.300000e+01</td>\n",
       "    </tr>\n",
       "    <tr>\n",
       "      <th>max</th>\n",
       "      <td>2.127114e+06</td>\n",
       "      <td>1.254970e+08</td>\n",
       "      <td>5.400000e+01</td>\n",
       "      <td>8.944000e+04</td>\n",
       "      <td>1.700000e+01</td>\n",
       "    </tr>\n",
       "  </tbody>\n",
       "</table>\n",
       "</div>"
      ],
      "text/plain": [
       "           item_nbr            id     store_nbr    unit_sales       cluster\n",
       "count  1.279623e+08  1.279623e+08  1.279623e+08  1.279623e+08  1.279623e+08\n",
       "mean   9.736219e+05  6.291530e+07  2.746758e+01  8.570442e+00  8.727179e+00\n",
       "std    5.208501e+05  3.620335e+07  1.632959e+01  2.410391e+01  4.626471e+00\n",
       "min    9.699500e+04  0.000000e+00  1.000000e+00  1.000000e-03  1.000000e+00\n",
       "25%    5.227210e+05  3.154549e+07  1.200000e+01  2.000000e+00  4.000000e+00\n",
       "50%    9.595020e+05  6.315291e+07  2.800000e+01  4.000000e+00  9.000000e+00\n",
       "75%    1.354382e+06  9.414972e+07  4.300000e+01  9.000000e+00  1.300000e+01\n",
       "max    2.127114e+06  1.254970e+08  5.400000e+01  8.944000e+04  1.700000e+01"
      ]
     },
     "execution_count": 51,
     "metadata": {},
     "output_type": "execute_result"
    }
   ],
   "source": [
    "items_with_other_info[items_with_other_info['unit_sales']>=0].describe()\n"
   ]
  },
  {
   "cell_type": "code",
   "execution_count": 52,
   "id": "48abc17a",
   "metadata": {},
   "outputs": [
    {
     "data": {
      "text/html": [
       "<div>\n",
       "<style scoped>\n",
       "    .dataframe tbody tr th:only-of-type {\n",
       "        vertical-align: middle;\n",
       "    }\n",
       "\n",
       "    .dataframe tbody tr th {\n",
       "        vertical-align: top;\n",
       "    }\n",
       "\n",
       "    .dataframe thead th {\n",
       "        text-align: right;\n",
       "    }\n",
       "</style>\n",
       "<table border=\"1\" class=\"dataframe\">\n",
       "  <thead>\n",
       "    <tr style=\"text-align: right;\">\n",
       "      <th></th>\n",
       "      <th>item_nbr</th>\n",
       "      <th>id</th>\n",
       "      <th>store_nbr</th>\n",
       "      <th>unit_sales</th>\n",
       "      <th>cluster</th>\n",
       "    </tr>\n",
       "  </thead>\n",
       "  <tbody>\n",
       "    <tr>\n",
       "      <th>count</th>\n",
       "      <td>7.964000e+03</td>\n",
       "      <td>7.964000e+03</td>\n",
       "      <td>7964.000000</td>\n",
       "      <td>7964.000000</td>\n",
       "      <td>7964.000000</td>\n",
       "    </tr>\n",
       "    <tr>\n",
       "      <th>mean</th>\n",
       "      <td>1.060949e+06</td>\n",
       "      <td>6.503037e+07</td>\n",
       "      <td>26.119161</td>\n",
       "      <td>-19.968299</td>\n",
       "      <td>9.237192</td>\n",
       "    </tr>\n",
       "    <tr>\n",
       "      <th>std</th>\n",
       "      <td>5.404696e+05</td>\n",
       "      <td>3.634282e+07</td>\n",
       "      <td>17.230871</td>\n",
       "      <td>243.152178</td>\n",
       "      <td>4.677962</td>\n",
       "    </tr>\n",
       "    <tr>\n",
       "      <th>min</th>\n",
       "      <td>9.699500e+04</td>\n",
       "      <td>1.065500e+04</td>\n",
       "      <td>1.000000</td>\n",
       "      <td>-15372.000000</td>\n",
       "      <td>1.000000</td>\n",
       "    </tr>\n",
       "    <tr>\n",
       "      <th>25%</th>\n",
       "      <td>5.929420e+05</td>\n",
       "      <td>3.397509e+07</td>\n",
       "      <td>8.000000</td>\n",
       "      <td>-4.000000</td>\n",
       "      <td>5.000000</td>\n",
       "    </tr>\n",
       "    <tr>\n",
       "      <th>50%</th>\n",
       "      <td>1.105213e+06</td>\n",
       "      <td>6.639718e+07</td>\n",
       "      <td>25.000000</td>\n",
       "      <td>-1.000000</td>\n",
       "      <td>9.000000</td>\n",
       "    </tr>\n",
       "    <tr>\n",
       "      <th>75%</th>\n",
       "      <td>1.463887e+06</td>\n",
       "      <td>9.730684e+07</td>\n",
       "      <td>44.000000</td>\n",
       "      <td>-1.000000</td>\n",
       "      <td>13.000000</td>\n",
       "    </tr>\n",
       "    <tr>\n",
       "      <th>max</th>\n",
       "      <td>2.121610e+06</td>\n",
       "      <td>1.254730e+08</td>\n",
       "      <td>54.000000</td>\n",
       "      <td>-0.002000</td>\n",
       "      <td>17.000000</td>\n",
       "    </tr>\n",
       "  </tbody>\n",
       "</table>\n",
       "</div>"
      ],
      "text/plain": [
       "           item_nbr            id    store_nbr    unit_sales      cluster\n",
       "count  7.964000e+03  7.964000e+03  7964.000000   7964.000000  7964.000000\n",
       "mean   1.060949e+06  6.503037e+07    26.119161    -19.968299     9.237192\n",
       "std    5.404696e+05  3.634282e+07    17.230871    243.152178     4.677962\n",
       "min    9.699500e+04  1.065500e+04     1.000000 -15372.000000     1.000000\n",
       "25%    5.929420e+05  3.397509e+07     8.000000     -4.000000     5.000000\n",
       "50%    1.105213e+06  6.639718e+07    25.000000     -1.000000     9.000000\n",
       "75%    1.463887e+06  9.730684e+07    44.000000     -1.000000    13.000000\n",
       "max    2.121610e+06  1.254730e+08    54.000000     -0.002000    17.000000"
      ]
     },
     "execution_count": 52,
     "metadata": {},
     "output_type": "execute_result"
    }
   ],
   "source": [
    "items_with_other_info[items_with_other_info['unit_sales']<0].describe()\n"
   ]
  },
  {
   "cell_type": "code",
   "execution_count": 53,
   "id": "4a6221fd",
   "metadata": {},
   "outputs": [],
   "source": [
    "items_with_other_info=items_with_other_info[items_with_other_info['unit_sales']>=0]"
   ]
  },
  {
   "cell_type": "code",
   "execution_count": 54,
   "id": "c5f749ce",
   "metadata": {},
   "outputs": [
    {
     "data": {
      "image/png": "[encoded data removed]",
      "text/plain": [
       "<Figure size 1200x800 with 2 Axes>"
      ]
     },
     "metadata": {},
     "output_type": "display_data"
    }
   ],
   "source": [
    "\n",
    "#Code task 13#\n",
    "#Create two subplots on 1 row and 2 columns with a figsize of (12, 8)\n",
    "fig, ax = plt.subplots(1, 2, figsize=(12,8))\n",
    "#Specify a horizontal barplot ('barh') as kind of plot (kind=)\n",
    "items_with_other_info.family.value_counts().plot(kind='bar', ax=ax[0])\n",
    "#Give the plot a helpful title of 'Region'\n",
    "ax[0].set_title('family of products count')\n",
    "#Label the xaxis 'Count'\n",
    "#Give the plot a helpful title of 'state'\n",
    "items_with_other_info.perishable.value_counts().plot(kind='barh', ax=ax[1])\n",
    "ax[1].set_title('perishable')\n",
    "#Label the xaxis 'Count'\n",
    "ax[1].set_xlabel('Count')\n",
    "#Give the subplots a little \"breathing room\" with a wspace of 0.5\n",
    "plt.subplots_adjust(wspace=0.5);\n",
    "#You're encouraged to explore a few"
   ]
  },
  {
   "cell_type": "code",
   "execution_count": 55,
   "id": "91443240",
   "metadata": {},
   "outputs": [],
   "source": [
    "items_with_other_info.rename(columns={'onpromotion':'on_sale'},inplace=True)"
   ]
  },
  {
   "cell_type": "code",
   "execution_count": 56,
   "id": "1a560f2d",
   "metadata": {},
   "outputs": [
    {
     "data": {
      "text/plain": [
       "Text(0.5, 1.0, 'perishable')"
      ]
     },
     "execution_count": 56,
     "metadata": {},
     "output_type": "execute_result"
    },
    {
     "data": {
      "image/png": "[encoded data removed]",
      "text/plain": [
       "<Figure size 1200x800 with 2 Axes>"
      ]
     },
     "metadata": {},
     "output_type": "display_data"
    }
   ],
   "source": [
    "df=items_with_other_info.groupby('family')['unit_sales'].mean()\n",
    "df_not_perishable_grouped=items_with_other_info[items_with_other_info['perishable']==0].groupby('family')['unit_sales'].mean()\n",
    "df_perishable_grouped=items_with_other_info[items_with_other_info['perishable']==1].groupby('family')['unit_sales'].mean()\n",
    "\n",
    "#Code task 13#\n",
    "#Create two subplots on 1 row and 2 columns with a figsize of (12, 8)\n",
    "fig,ax = plt.subplots(1, 2, figsize=(12,8))\n",
    "#Specify a horizontal barplot ('barh') as kind of plot (kind=)\n",
    "df_not_perishable_grouped.plot(kind='bar',ax=ax[0])\n",
    "df_perishable_grouped.plot(kind='bar',ax=ax[1])\n",
    "#Give the plot a helpful title of 'Region'\n",
    "ax[0].set_title('not perishable')\n",
    "ax[1].set_title('perishable')\n",
    "\n",
    "\n",
    "              \n",
    "              # importing pandas library "
   ]
  },
  {
   "cell_type": "code",
   "execution_count": 57,
   "id": "a643d7fc",
   "metadata": {},
   "outputs": [
    {
     "data": {
      "text/plain": [
       "<Axes: xlabel='family'>"
      ]
     },
     "execution_count": 57,
     "metadata": {},
     "output_type": "execute_result"
    },
    {
     "data": {
      "image/png": "[encoded data removed]",
      "text/plain": [
       "<Figure size 640x480 with 1 Axes>"
      ]
     },
     "metadata": {},
     "output_type": "display_data"
    }
   ],
   "source": [
    "df_not_on_sale_grouped=items_with_other_info[items_with_other_info['on_sale']==False].groupby('family')['unit_sales'].mean()\n",
    "df_on_sale_ungrouped=items_with_other_info[items_with_other_info['on_sale']==True]\n",
    "df_on_sale_grouped = df_on_sale_ungrouped.groupby('family')['unit_sales'].mean()\n",
    "# plotting graph \n",
    "new_df = pd.DataFrame({'on_sale':df_on_sale_grouped, 'not_on_sale':df_not_on_sale_grouped}).reset_index()\n",
    "new_df.plot(x='family',y=[\"on_sale\", \"not_on_sale\"], kind=\"bar\") "
   ]
  },
  {
   "cell_type": "code",
   "execution_count": 58,
   "id": "8bbc8e20",
   "metadata": {},
   "outputs": [
    {
     "data": {
      "text/plain": [
       "<Axes: xlabel='family'>"
      ]
     },
     "execution_count": 58,
     "metadata": {},
     "output_type": "execute_result"
    },
    {
     "data": {
      "image/png": "[encoded data removed]",
      "text/plain": [
       "<Figure size 640x480 with 1 Axes>"
      ]
     },
     "metadata": {},
     "output_type": "display_data"
    }
   ],
   "source": [
    "df_perishable_on_sale_grouped=items_with_other_info[(items_with_other_info['on_sale']==True)&(items_with_other_info['perishable']==1)].groupby('family')['unit_sales'].mean()\n",
    "df_perishable_not_on_sale_grouped=items_with_other_info[(items_with_other_info['on_sale']==False)&(items_with_other_info['perishable']==1)].groupby('family')['unit_sales'].mean()\n",
    "#Code task 13#\n",
    "perish_df = pd.DataFrame({'on_sale':df_perishable_on_sale_grouped, 'not_on_sale':df_perishable_not_on_sale_grouped}).reset_index()\n",
    "perish_df.plot(x='family',y=[\"on_sale\", \"not_on_sale\"], kind=\"bar\")"
   ]
  },
  {
   "cell_type": "code",
   "execution_count": 59,
   "id": "fcce42d8",
   "metadata": {},
   "outputs": [
    {
     "data": {
      "text/plain": [
       "<Axes: xlabel='family'>"
      ]
     },
     "execution_count": 59,
     "metadata": {},
     "output_type": "execute_result"
    },
    {
     "data": {
      "image/png": "[encoded data removed]",
      "text/plain": [
       "<Figure size 640x480 with 1 Axes>"
      ]
     },
     "metadata": {},
     "output_type": "display_data"
    }
   ],
   "source": [
    "\n",
    "df_notperishable_on_sale_grouped=items_with_other_info[(items_with_other_info['on_sale']==True)&(items_with_other_info['perishable']==0)].groupby('family')['unit_sales'].mean()\n",
    "df_notperishable_not_on_sale_grouped=items_with_other_info[(items_with_other_info['on_sale']==False)&(items_with_other_info['perishable']==0)].groupby('family')['unit_sales'].mean()\n",
    "#Code task 13#\n",
    "notperish_df = pd.DataFrame({'on_sale':df_notperishable_on_sale_grouped, 'not_on_sale':df_notperishable_not_on_sale_grouped}).reset_index()\n",
    "notperish_df.plot(x='family',y=[\"on_sale\", \"not_on_sale\"], kind=\"bar\")"
   ]
  },
  {
   "cell_type": "code",
   "execution_count": null,
   "id": "1a8908ce",
   "metadata": {},
   "outputs": [],
   "source": []
  },
  {
   "cell_type": "code",
   "execution_count": null,
   "id": "a5369980",
   "metadata": {},
   "outputs": [],
   "source": []
  }
 ],
 "metadata": {
  "kernelspec": {
   "display_name": "Python 3 (ipykernel)",
   "language": "python",
   "name": "python3"
  },
  "language_info": {
   "codemirror_mode": {
    "name": "ipython",
    "version": 3
   },
   "file_extension": ".py",
   "mimetype": "text/x-python",
   "name": "python",
   "nbconvert_exporter": "python",
   "pygments_lexer": "ipython3",
   "version": "3.11.4"
  }
 },
 "nbformat": 4,
 "nbformat_minor": 5
}
